{
 "cells": [
  {
   "cell_type": "markdown",
   "metadata": {},
   "source": [
    "Import required libraries"
   ]
  },
  {
   "cell_type": "code",
   "execution_count": 5,
   "metadata": {
    "execution": {
     "iopub.execute_input": "2022-05-02T08:08:50.833069Z",
     "iopub.status.busy": "2022-05-02T08:08:50.832354Z",
     "iopub.status.idle": "2022-05-02T08:08:54.614504Z",
     "shell.execute_reply": "2022-05-02T08:08:54.613192Z",
     "shell.execute_reply.started": "2022-05-02T08:08:50.833034Z"
    }
   },
   "outputs": [],
   "source": [
    "import numpy as np \n",
    "import pandas as pd\n",
    "from sklearn import preprocessing\n",
    "import matplotlib as mt\n",
    "import seaborn as sns\n",
    "from sklearn import linear_model\n",
    "from scipy.stats import skew,kurtosis\n",
    "from matplotlib.pyplot import plot\n",
    "import matplotlib.pyplot as plt\n",
    "from scipy.stats import gaussian_kde\n",
    "import seaborn as sb"
   ]
  },
  {
   "cell_type": "code",
   "execution_count": 6,
   "metadata": {},
   "outputs": [],
   "source": [
    "import warnings\n",
    "warnings.filterwarnings('ignore')"
   ]
  },
  {
   "cell_type": "markdown",
   "metadata": {},
   "source": [
    "Read data from csv to dataframe"
   ]
  },
  {
   "cell_type": "code",
   "execution_count": 7,
   "metadata": {
    "execution": {
     "iopub.execute_input": "2022-05-02T08:08:54.616062Z",
     "iopub.status.busy": "2022-05-02T08:08:54.615825Z",
     "iopub.status.idle": "2022-05-02T08:08:54.637470Z",
     "shell.execute_reply": "2022-05-02T08:08:54.635677Z",
     "shell.execute_reply.started": "2022-05-02T08:08:54.616031Z"
    }
   },
   "outputs": [],
   "source": [
    "df = pd.read_csv(\"C:/Users/M1078280/OneDrive - Mindtree Limited/Desktop/Mine Learn/#Project/Diabetes prediction/archive/diabetes.csv\")"
   ]
  },
  {
   "cell_type": "markdown",
   "metadata": {},
   "source": [
    "View and Analyse data"
   ]
  },
  {
   "cell_type": "code",
   "execution_count": 8,
   "metadata": {
    "execution": {
     "iopub.execute_input": "2022-05-02T08:08:54.640186Z",
     "iopub.status.busy": "2022-05-02T08:08:54.639870Z",
     "iopub.status.idle": "2022-05-02T08:08:54.653752Z",
     "shell.execute_reply": "2022-05-02T08:08:54.652099Z",
     "shell.execute_reply.started": "2022-05-02T08:08:54.640147Z"
    }
   },
   "outputs": [
    {
     "data": {
      "text/plain": [
       "6912"
      ]
     },
     "execution_count": 8,
     "metadata": {},
     "output_type": "execute_result"
    }
   ],
   "source": [
    "# size give total number of observations:=) \n",
    "# size = no. of rows * no. of columns of df.shape\n",
    "df.size"
   ]
  },
  {
   "cell_type": "code",
   "execution_count": 9,
   "metadata": {
    "execution": {
     "iopub.execute_input": "2022-05-02T08:08:54.714968Z",
     "iopub.status.busy": "2022-05-02T08:08:54.713923Z",
     "iopub.status.idle": "2022-05-02T08:08:54.735731Z",
     "shell.execute_reply": "2022-05-02T08:08:54.735168Z",
     "shell.execute_reply.started": "2022-05-02T08:08:54.714904Z"
    }
   },
   "outputs": [
    {
     "data": {
      "text/plain": [
       "(768, 9)"
      ]
     },
     "execution_count": 9,
     "metadata": {},
     "output_type": "execute_result"
    }
   ],
   "source": [
    "# number of total observations and columns\n",
    "df.shape"
   ]
  },
  {
   "cell_type": "code",
   "execution_count": 10,
   "metadata": {
    "execution": {
     "iopub.execute_input": "2022-05-02T08:08:54.655164Z",
     "iopub.status.busy": "2022-05-02T08:08:54.654954Z",
     "iopub.status.idle": "2022-05-02T08:08:54.694302Z",
     "shell.execute_reply": "2022-05-02T08:08:54.693070Z",
     "shell.execute_reply.started": "2022-05-02T08:08:54.655135Z"
    }
   },
   "outputs": [
    {
     "data": {
      "text/html": [
       "<div>\n",
       "<style scoped>\n",
       "    .dataframe tbody tr th:only-of-type {\n",
       "        vertical-align: middle;\n",
       "    }\n",
       "\n",
       "    .dataframe tbody tr th {\n",
       "        vertical-align: top;\n",
       "    }\n",
       "\n",
       "    .dataframe thead th {\n",
       "        text-align: right;\n",
       "    }\n",
       "</style>\n",
       "<table border=\"1\" class=\"dataframe\">\n",
       "  <thead>\n",
       "    <tr style=\"text-align: right;\">\n",
       "      <th></th>\n",
       "      <th>Pregnancies</th>\n",
       "      <th>Glucose</th>\n",
       "      <th>BloodPressure</th>\n",
       "      <th>SkinThickness</th>\n",
       "      <th>Insulin</th>\n",
       "      <th>BMI</th>\n",
       "      <th>DiabetesPedigreeFunction</th>\n",
       "      <th>Age</th>\n",
       "      <th>Outcome</th>\n",
       "    </tr>\n",
       "  </thead>\n",
       "  <tbody>\n",
       "    <tr>\n",
       "      <th>0</th>\n",
       "      <td>6</td>\n",
       "      <td>148</td>\n",
       "      <td>72</td>\n",
       "      <td>35</td>\n",
       "      <td>0</td>\n",
       "      <td>33.6</td>\n",
       "      <td>0.627</td>\n",
       "      <td>50</td>\n",
       "      <td>1</td>\n",
       "    </tr>\n",
       "    <tr>\n",
       "      <th>1</th>\n",
       "      <td>1</td>\n",
       "      <td>85</td>\n",
       "      <td>66</td>\n",
       "      <td>29</td>\n",
       "      <td>0</td>\n",
       "      <td>26.6</td>\n",
       "      <td>0.351</td>\n",
       "      <td>31</td>\n",
       "      <td>0</td>\n",
       "    </tr>\n",
       "    <tr>\n",
       "      <th>2</th>\n",
       "      <td>8</td>\n",
       "      <td>183</td>\n",
       "      <td>64</td>\n",
       "      <td>0</td>\n",
       "      <td>0</td>\n",
       "      <td>23.3</td>\n",
       "      <td>0.672</td>\n",
       "      <td>32</td>\n",
       "      <td>1</td>\n",
       "    </tr>\n",
       "    <tr>\n",
       "      <th>3</th>\n",
       "      <td>1</td>\n",
       "      <td>89</td>\n",
       "      <td>66</td>\n",
       "      <td>23</td>\n",
       "      <td>94</td>\n",
       "      <td>28.1</td>\n",
       "      <td>0.167</td>\n",
       "      <td>21</td>\n",
       "      <td>0</td>\n",
       "    </tr>\n",
       "    <tr>\n",
       "      <th>4</th>\n",
       "      <td>0</td>\n",
       "      <td>137</td>\n",
       "      <td>40</td>\n",
       "      <td>35</td>\n",
       "      <td>168</td>\n",
       "      <td>43.1</td>\n",
       "      <td>2.288</td>\n",
       "      <td>33</td>\n",
       "      <td>1</td>\n",
       "    </tr>\n",
       "  </tbody>\n",
       "</table>\n",
       "</div>"
      ],
      "text/plain": [
       "   Pregnancies  Glucose  BloodPressure  SkinThickness  Insulin   BMI  \\\n",
       "0            6      148             72             35        0  33.6   \n",
       "1            1       85             66             29        0  26.6   \n",
       "2            8      183             64              0        0  23.3   \n",
       "3            1       89             66             23       94  28.1   \n",
       "4            0      137             40             35      168  43.1   \n",
       "\n",
       "   DiabetesPedigreeFunction  Age  Outcome  \n",
       "0                     0.627   50        1  \n",
       "1                     0.351   31        0  \n",
       "2                     0.672   32        1  \n",
       "3                     0.167   21        0  \n",
       "4                     2.288   33        1  "
      ]
     },
     "execution_count": 10,
     "metadata": {},
     "output_type": "execute_result"
    }
   ],
   "source": [
    "# prints first five observations\n",
    "df.head()"
   ]
  },
  {
   "cell_type": "code",
   "execution_count": 11,
   "metadata": {
    "execution": {
     "iopub.execute_input": "2022-05-02T08:08:54.696570Z",
     "iopub.status.busy": "2022-05-02T08:08:54.696071Z",
     "iopub.status.idle": "2022-05-02T08:08:54.712672Z",
     "shell.execute_reply": "2022-05-02T08:08:54.711893Z",
     "shell.execute_reply.started": "2022-05-02T08:08:54.696530Z"
    }
   },
   "outputs": [
    {
     "data": {
      "text/html": [
       "<div>\n",
       "<style scoped>\n",
       "    .dataframe tbody tr th:only-of-type {\n",
       "        vertical-align: middle;\n",
       "    }\n",
       "\n",
       "    .dataframe tbody tr th {\n",
       "        vertical-align: top;\n",
       "    }\n",
       "\n",
       "    .dataframe thead th {\n",
       "        text-align: right;\n",
       "    }\n",
       "</style>\n",
       "<table border=\"1\" class=\"dataframe\">\n",
       "  <thead>\n",
       "    <tr style=\"text-align: right;\">\n",
       "      <th></th>\n",
       "      <th>Pregnancies</th>\n",
       "      <th>Glucose</th>\n",
       "      <th>BloodPressure</th>\n",
       "      <th>SkinThickness</th>\n",
       "      <th>Insulin</th>\n",
       "      <th>BMI</th>\n",
       "      <th>DiabetesPedigreeFunction</th>\n",
       "      <th>Age</th>\n",
       "      <th>Outcome</th>\n",
       "    </tr>\n",
       "  </thead>\n",
       "  <tbody>\n",
       "    <tr>\n",
       "      <th>763</th>\n",
       "      <td>10</td>\n",
       "      <td>101</td>\n",
       "      <td>76</td>\n",
       "      <td>48</td>\n",
       "      <td>180</td>\n",
       "      <td>32.9</td>\n",
       "      <td>0.171</td>\n",
       "      <td>63</td>\n",
       "      <td>0</td>\n",
       "    </tr>\n",
       "    <tr>\n",
       "      <th>764</th>\n",
       "      <td>2</td>\n",
       "      <td>122</td>\n",
       "      <td>70</td>\n",
       "      <td>27</td>\n",
       "      <td>0</td>\n",
       "      <td>36.8</td>\n",
       "      <td>0.340</td>\n",
       "      <td>27</td>\n",
       "      <td>0</td>\n",
       "    </tr>\n",
       "    <tr>\n",
       "      <th>765</th>\n",
       "      <td>5</td>\n",
       "      <td>121</td>\n",
       "      <td>72</td>\n",
       "      <td>23</td>\n",
       "      <td>112</td>\n",
       "      <td>26.2</td>\n",
       "      <td>0.245</td>\n",
       "      <td>30</td>\n",
       "      <td>0</td>\n",
       "    </tr>\n",
       "    <tr>\n",
       "      <th>766</th>\n",
       "      <td>1</td>\n",
       "      <td>126</td>\n",
       "      <td>60</td>\n",
       "      <td>0</td>\n",
       "      <td>0</td>\n",
       "      <td>30.1</td>\n",
       "      <td>0.349</td>\n",
       "      <td>47</td>\n",
       "      <td>1</td>\n",
       "    </tr>\n",
       "    <tr>\n",
       "      <th>767</th>\n",
       "      <td>1</td>\n",
       "      <td>93</td>\n",
       "      <td>70</td>\n",
       "      <td>31</td>\n",
       "      <td>0</td>\n",
       "      <td>30.4</td>\n",
       "      <td>0.315</td>\n",
       "      <td>23</td>\n",
       "      <td>0</td>\n",
       "    </tr>\n",
       "  </tbody>\n",
       "</table>\n",
       "</div>"
      ],
      "text/plain": [
       "     Pregnancies  Glucose  BloodPressure  SkinThickness  Insulin   BMI  \\\n",
       "763           10      101             76             48      180  32.9   \n",
       "764            2      122             70             27        0  36.8   \n",
       "765            5      121             72             23      112  26.2   \n",
       "766            1      126             60              0        0  30.1   \n",
       "767            1       93             70             31        0  30.4   \n",
       "\n",
       "     DiabetesPedigreeFunction  Age  Outcome  \n",
       "763                     0.171   63        0  \n",
       "764                     0.340   27        0  \n",
       "765                     0.245   30        0  \n",
       "766                     0.349   47        1  \n",
       "767                     0.315   23        0  "
      ]
     },
     "execution_count": 11,
     "metadata": {},
     "output_type": "execute_result"
    }
   ],
   "source": [
    "# prints last five observations\n",
    "df.tail()"
   ]
  },
  {
   "cell_type": "code",
   "execution_count": 12,
   "metadata": {
    "execution": {
     "iopub.execute_input": "2022-05-02T08:08:54.758251Z",
     "iopub.status.busy": "2022-05-02T08:08:54.757649Z",
     "iopub.status.idle": "2022-05-02T08:08:54.803520Z",
     "shell.execute_reply": "2022-05-02T08:08:54.802622Z",
     "shell.execute_reply.started": "2022-05-02T08:08:54.758218Z"
    }
   },
   "outputs": [
    {
     "name": "stdout",
     "output_type": "stream",
     "text": [
      "<class 'pandas.core.frame.DataFrame'>\n",
      "RangeIndex: 768 entries, 0 to 767\n",
      "Data columns (total 9 columns):\n",
      " #   Column                    Non-Null Count  Dtype  \n",
      "---  ------                    --------------  -----  \n",
      " 0   Pregnancies               768 non-null    int64  \n",
      " 1   Glucose                   768 non-null    int64  \n",
      " 2   BloodPressure             768 non-null    int64  \n",
      " 3   SkinThickness             768 non-null    int64  \n",
      " 4   Insulin                   768 non-null    int64  \n",
      " 5   BMI                       768 non-null    float64\n",
      " 6   DiabetesPedigreeFunction  768 non-null    float64\n",
      " 7   Age                       768 non-null    int64  \n",
      " 8   Outcome                   768 non-null    int64  \n",
      "dtypes: float64(2), int64(7)\n",
      "memory usage: 54.1 KB\n"
     ]
    }
   ],
   "source": [
    "df.info()"
   ]
  },
  {
   "cell_type": "code",
   "execution_count": 13,
   "metadata": {
    "execution": {
     "iopub.execute_input": "2022-05-02T08:08:54.805277Z",
     "iopub.status.busy": "2022-05-02T08:08:54.804527Z",
     "iopub.status.idle": "2022-05-02T08:08:54.813581Z",
     "shell.execute_reply": "2022-05-02T08:08:54.812670Z",
     "shell.execute_reply.started": "2022-05-02T08:08:54.805247Z"
    }
   },
   "outputs": [
    {
     "data": {
      "text/plain": [
       "Pregnancies                 0\n",
       "Glucose                     0\n",
       "BloodPressure               0\n",
       "SkinThickness               0\n",
       "Insulin                     0\n",
       "BMI                         0\n",
       "DiabetesPedigreeFunction    0\n",
       "Age                         0\n",
       "Outcome                     0\n",
       "dtype: int64"
      ]
     },
     "execution_count": 13,
     "metadata": {},
     "output_type": "execute_result"
    }
   ],
   "source": [
    "# number of null or na values in data frame\n",
    "df.isnull().sum()"
   ]
  },
  {
   "cell_type": "code",
   "execution_count": 14,
   "metadata": {
    "execution": {
     "iopub.execute_input": "2022-05-02T08:08:54.815222Z",
     "iopub.status.busy": "2022-05-02T08:08:54.814978Z",
     "iopub.status.idle": "2022-05-02T08:08:54.876808Z",
     "shell.execute_reply": "2022-05-02T08:08:54.876003Z",
     "shell.execute_reply.started": "2022-05-02T08:08:54.815190Z"
    }
   },
   "outputs": [
    {
     "data": {
      "text/html": [
       "<div>\n",
       "<style scoped>\n",
       "    .dataframe tbody tr th:only-of-type {\n",
       "        vertical-align: middle;\n",
       "    }\n",
       "\n",
       "    .dataframe tbody tr th {\n",
       "        vertical-align: top;\n",
       "    }\n",
       "\n",
       "    .dataframe thead th {\n",
       "        text-align: right;\n",
       "    }\n",
       "</style>\n",
       "<table border=\"1\" class=\"dataframe\">\n",
       "  <thead>\n",
       "    <tr style=\"text-align: right;\">\n",
       "      <th></th>\n",
       "      <th>Pregnancies</th>\n",
       "      <th>Glucose</th>\n",
       "      <th>BloodPressure</th>\n",
       "      <th>SkinThickness</th>\n",
       "      <th>Insulin</th>\n",
       "      <th>BMI</th>\n",
       "      <th>DiabetesPedigreeFunction</th>\n",
       "      <th>Age</th>\n",
       "      <th>Outcome</th>\n",
       "    </tr>\n",
       "  </thead>\n",
       "  <tbody>\n",
       "    <tr>\n",
       "      <th>count</th>\n",
       "      <td>768.000000</td>\n",
       "      <td>768.000000</td>\n",
       "      <td>768.000000</td>\n",
       "      <td>768.000000</td>\n",
       "      <td>768.000000</td>\n",
       "      <td>768.000000</td>\n",
       "      <td>768.000000</td>\n",
       "      <td>768.000000</td>\n",
       "      <td>768.000000</td>\n",
       "    </tr>\n",
       "    <tr>\n",
       "      <th>mean</th>\n",
       "      <td>3.845052</td>\n",
       "      <td>120.894531</td>\n",
       "      <td>69.105469</td>\n",
       "      <td>20.536458</td>\n",
       "      <td>79.799479</td>\n",
       "      <td>31.992578</td>\n",
       "      <td>0.471876</td>\n",
       "      <td>33.240885</td>\n",
       "      <td>0.348958</td>\n",
       "    </tr>\n",
       "    <tr>\n",
       "      <th>std</th>\n",
       "      <td>3.369578</td>\n",
       "      <td>31.972618</td>\n",
       "      <td>19.355807</td>\n",
       "      <td>15.952218</td>\n",
       "      <td>115.244002</td>\n",
       "      <td>7.884160</td>\n",
       "      <td>0.331329</td>\n",
       "      <td>11.760232</td>\n",
       "      <td>0.476951</td>\n",
       "    </tr>\n",
       "    <tr>\n",
       "      <th>min</th>\n",
       "      <td>0.000000</td>\n",
       "      <td>0.000000</td>\n",
       "      <td>0.000000</td>\n",
       "      <td>0.000000</td>\n",
       "      <td>0.000000</td>\n",
       "      <td>0.000000</td>\n",
       "      <td>0.078000</td>\n",
       "      <td>21.000000</td>\n",
       "      <td>0.000000</td>\n",
       "    </tr>\n",
       "    <tr>\n",
       "      <th>25%</th>\n",
       "      <td>1.000000</td>\n",
       "      <td>99.000000</td>\n",
       "      <td>62.000000</td>\n",
       "      <td>0.000000</td>\n",
       "      <td>0.000000</td>\n",
       "      <td>27.300000</td>\n",
       "      <td>0.243750</td>\n",
       "      <td>24.000000</td>\n",
       "      <td>0.000000</td>\n",
       "    </tr>\n",
       "    <tr>\n",
       "      <th>50%</th>\n",
       "      <td>3.000000</td>\n",
       "      <td>117.000000</td>\n",
       "      <td>72.000000</td>\n",
       "      <td>23.000000</td>\n",
       "      <td>30.500000</td>\n",
       "      <td>32.000000</td>\n",
       "      <td>0.372500</td>\n",
       "      <td>29.000000</td>\n",
       "      <td>0.000000</td>\n",
       "    </tr>\n",
       "    <tr>\n",
       "      <th>75%</th>\n",
       "      <td>6.000000</td>\n",
       "      <td>140.250000</td>\n",
       "      <td>80.000000</td>\n",
       "      <td>32.000000</td>\n",
       "      <td>127.250000</td>\n",
       "      <td>36.600000</td>\n",
       "      <td>0.626250</td>\n",
       "      <td>41.000000</td>\n",
       "      <td>1.000000</td>\n",
       "    </tr>\n",
       "    <tr>\n",
       "      <th>max</th>\n",
       "      <td>17.000000</td>\n",
       "      <td>199.000000</td>\n",
       "      <td>122.000000</td>\n",
       "      <td>99.000000</td>\n",
       "      <td>846.000000</td>\n",
       "      <td>67.100000</td>\n",
       "      <td>2.420000</td>\n",
       "      <td>81.000000</td>\n",
       "      <td>1.000000</td>\n",
       "    </tr>\n",
       "  </tbody>\n",
       "</table>\n",
       "</div>"
      ],
      "text/plain": [
       "       Pregnancies     Glucose  BloodPressure  SkinThickness     Insulin  \\\n",
       "count   768.000000  768.000000     768.000000     768.000000  768.000000   \n",
       "mean      3.845052  120.894531      69.105469      20.536458   79.799479   \n",
       "std       3.369578   31.972618      19.355807      15.952218  115.244002   \n",
       "min       0.000000    0.000000       0.000000       0.000000    0.000000   \n",
       "25%       1.000000   99.000000      62.000000       0.000000    0.000000   \n",
       "50%       3.000000  117.000000      72.000000      23.000000   30.500000   \n",
       "75%       6.000000  140.250000      80.000000      32.000000  127.250000   \n",
       "max      17.000000  199.000000     122.000000      99.000000  846.000000   \n",
       "\n",
       "              BMI  DiabetesPedigreeFunction         Age     Outcome  \n",
       "count  768.000000                768.000000  768.000000  768.000000  \n",
       "mean    31.992578                  0.471876   33.240885    0.348958  \n",
       "std      7.884160                  0.331329   11.760232    0.476951  \n",
       "min      0.000000                  0.078000   21.000000    0.000000  \n",
       "25%     27.300000                  0.243750   24.000000    0.000000  \n",
       "50%     32.000000                  0.372500   29.000000    0.000000  \n",
       "75%     36.600000                  0.626250   41.000000    1.000000  \n",
       "max     67.100000                  2.420000   81.000000    1.000000  "
      ]
     },
     "execution_count": 14,
     "metadata": {},
     "output_type": "execute_result"
    }
   ],
   "source": [
    "# statistics of data frame\n",
    "df.describe()"
   ]
  },
  {
   "cell_type": "code",
   "execution_count": 15,
   "metadata": {
    "execution": {
     "iopub.execute_input": "2022-05-02T08:08:54.879210Z",
     "iopub.status.busy": "2022-05-02T08:08:54.878033Z",
     "iopub.status.idle": "2022-05-02T08:08:54.883945Z",
     "shell.execute_reply": "2022-05-02T08:08:54.882388Z",
     "shell.execute_reply.started": "2022-05-02T08:08:54.879148Z"
    }
   },
   "outputs": [],
   "source": [
    "# complete profile report of dataframe\n",
    "# pp.ProfileReport(df)"
   ]
  },
  {
   "cell_type": "code",
   "execution_count": 16,
   "metadata": {
    "execution": {
     "iopub.execute_input": "2022-05-02T08:08:54.886782Z",
     "iopub.status.busy": "2022-05-02T08:08:54.886447Z",
     "iopub.status.idle": "2022-05-02T08:08:54.917188Z",
     "shell.execute_reply": "2022-05-02T08:08:54.916131Z",
     "shell.execute_reply.started": "2022-05-02T08:08:54.886749Z"
    }
   },
   "outputs": [
    {
     "name": "stdout",
     "output_type": "stream",
     "text": [
      "Pregnancies                 0\n",
      "Glucose                     0\n",
      "BloodPressure               0\n",
      "SkinThickness               0\n",
      "Insulin                     0\n",
      "BMI                         0\n",
      "DiabetesPedigreeFunction    0\n",
      "Age                         0\n",
      "Outcome                     0\n",
      "dtype: int64\n",
      "\n",
      "Zeros\n",
      "\n",
      " Pregnancies                 111\n",
      "Glucose                       5\n",
      "BloodPressure                35\n",
      "SkinThickness               227\n",
      "Insulin                     374\n",
      "BMI                          11\n",
      "DiabetesPedigreeFunction      0\n",
      "Age                           0\n",
      "Outcome                     500\n",
      "dtype: int64\n"
     ]
    }
   ],
   "source": [
    "# checking nulls and zeros in dataframe\n",
    "# nulls in all features\n",
    "print(df.isna().sum())\n",
    "\n",
    "# check zeros\n",
    "print(\"\\n\"+\"Zeros\"+\"\\n\\n\",(df==0).sum())"
   ]
  },
  {
   "cell_type": "code",
   "execution_count": 17,
   "metadata": {
    "execution": {
     "iopub.execute_input": "2022-05-02T08:08:54.965556Z",
     "iopub.status.busy": "2022-05-02T08:08:54.965115Z",
     "iopub.status.idle": "2022-05-02T08:08:54.987746Z",
     "shell.execute_reply": "2022-05-02T08:08:54.986517Z",
     "shell.execute_reply.started": "2022-05-02T08:08:54.965522Z"
    }
   },
   "outputs": [
    {
     "data": {
      "text/plain": [
       "Pregnancies                 0\n",
       "Glucose                     0\n",
       "BloodPressure               0\n",
       "SkinThickness               0\n",
       "Insulin                     0\n",
       "BMI                         0\n",
       "DiabetesPedigreeFunction    0\n",
       "Age                         0\n",
       "Outcome                     0\n",
       "dtype: int64"
      ]
     },
     "execution_count": 17,
     "metadata": {},
     "output_type": "execute_result"
    }
   ],
   "source": [
    "#Checking on negative values\n",
    "(df<0).sum()"
   ]
  },
  {
   "cell_type": "code",
   "execution_count": 18,
   "metadata": {
    "execution": {
     "iopub.execute_input": "2022-05-02T08:08:54.990261Z",
     "iopub.status.busy": "2022-05-02T08:08:54.989636Z",
     "iopub.status.idle": "2022-05-02T08:08:55.011605Z",
     "shell.execute_reply": "2022-05-02T08:08:55.010171Z",
     "shell.execute_reply.started": "2022-05-02T08:08:54.990229Z"
    }
   },
   "outputs": [
    {
     "data": {
      "text/plain": [
       "0"
      ]
     },
     "execution_count": 18,
     "metadata": {},
     "output_type": "execute_result"
    }
   ],
   "source": [
    "#to find duplicates in dataframe\n",
    "df.duplicated().sum()"
   ]
  },
  {
   "cell_type": "markdown",
   "metadata": {},
   "source": [
    "Analysing data using Visualizations"
   ]
  },
  {
   "cell_type": "code",
   "execution_count": 19,
   "metadata": {
    "execution": {
     "iopub.execute_input": "2022-05-02T08:08:55.013167Z",
     "iopub.status.busy": "2022-05-02T08:08:55.012758Z",
     "iopub.status.idle": "2022-05-02T08:08:57.071245Z",
     "shell.execute_reply": "2022-05-02T08:08:57.070012Z",
     "shell.execute_reply.started": "2022-05-02T08:08:55.013127Z"
    }
   },
   "outputs": [
    {
     "name": "stdout",
     "output_type": "stream",
     "text": [
      "Skewness:  [ 0.90167398  0.1737535  -1.84360798  0.1093725   2.27225086 -0.42898159\n",
      "  1.91991107  1.1295967   0.63501664]\n",
      "kurtosis:  [ 0.15921978  0.64077982  5.18015656 -0.52007187  7.21425955  3.2904429\n",
      "  5.59495353  0.64315889 -1.60092976]\n"
     ]
    },
    {
     "data": {
      "image/png": "[encoded data removed]",
      "text/plain": [
       "<Figure size 1080x2160 with 27 Axes>"
      ]
     },
     "metadata": {
      "needs_background": "light"
     },
     "output_type": "display_data"
    }
   ],
   "source": [
    "# skewness and kurtosis\n",
    "\n",
    "print(\"Skewness: \",skew(df,bias=False))\n",
    "print(\"kurtosis: \",kurtosis(df, bias=False))\n",
    "\n",
    "#bias=False since calculating sample skewness \n",
    "\n",
    "#sb.kdeplot(df[\"Pregnancies\"],fill=True)\n",
    "df.hist(figsize=(15,30),layout=(9,3))\n",
    "plt.show()"
   ]
  },
  {
   "cell_type": "code",
   "execution_count": 20,
   "metadata": {
    "execution": {
     "iopub.execute_input": "2022-05-02T08:08:57.073622Z",
     "iopub.status.busy": "2022-05-02T08:08:57.073046Z",
     "iopub.status.idle": "2022-05-02T08:08:57.319716Z",
     "shell.execute_reply": "2022-05-02T08:08:57.318712Z",
     "shell.execute_reply.started": "2022-05-02T08:08:57.073582Z"
    }
   },
   "outputs": [
    {
     "data": {
      "image/png": "[encoded data removed]",
      "text/plain": [
       "<Figure size 432x288 with 1 Axes>"
      ]
     },
     "metadata": {
      "needs_background": "light"
     },
     "output_type": "display_data"
    }
   ],
   "source": [
    "# Outliers\n",
    "sb.kdeplot(df[\"Pregnancies\"],fill=True) # Kernal density estimation\n",
    "\n",
    "plt.show()"
   ]
  },
  {
   "cell_type": "code",
   "execution_count": 21,
   "metadata": {
    "execution": {
     "iopub.execute_input": "2022-05-02T08:08:57.322355Z",
     "iopub.status.busy": "2022-05-02T08:08:57.321018Z",
     "iopub.status.idle": "2022-05-02T08:08:57.330951Z",
     "shell.execute_reply": "2022-05-02T08:08:57.329594Z",
     "shell.execute_reply.started": "2022-05-02T08:08:57.322260Z"
    }
   },
   "outputs": [
    {
     "data": {
      "text/plain": [
       "17"
      ]
     },
     "execution_count": 21,
     "metadata": {},
     "output_type": "execute_result"
    }
   ],
   "source": [
    "df[\"Pregnancies\"].max()"
   ]
  },
  {
   "cell_type": "code",
   "execution_count": 22,
   "metadata": {
    "execution": {
     "iopub.execute_input": "2022-05-02T08:08:57.332988Z",
     "iopub.status.busy": "2022-05-02T08:08:57.332394Z",
     "iopub.status.idle": "2022-05-02T08:08:57.536691Z",
     "shell.execute_reply": "2022-05-02T08:08:57.532852Z",
     "shell.execute_reply.started": "2022-05-02T08:08:57.332953Z"
    }
   },
   "outputs": [
    {
     "data": {
      "text/plain": [
       "{'whiskers': [<matplotlib.lines.Line2D at 0x2e8321d5320>,\n",
       "  <matplotlib.lines.Line2D at 0x2e83211ba20>],\n",
       " 'caps': [<matplotlib.lines.Line2D at 0x2e8321d58d0>,\n",
       "  <matplotlib.lines.Line2D at 0x2e8321d5ba8>],\n",
       " 'boxes': [<matplotlib.lines.Line2D at 0x2e8321d50f0>],\n",
       " 'medians': [<matplotlib.lines.Line2D at 0x2e8321d5e80>],\n",
       " 'fliers': [<matplotlib.lines.Line2D at 0x2e8321b7dd8>],\n",
       " 'means': []}"
      ]
     },
     "execution_count": 22,
     "metadata": {},
     "output_type": "execute_result"
    },
    {
     "data": {
      "image/png": "[encoded data removed]",
      "text/plain": [
       "<Figure size 432x288 with 1 Axes>"
      ]
     },
     "metadata": {
      "needs_background": "light"
     },
     "output_type": "display_data"
    }
   ],
   "source": [
    "plt.boxplot(df[\"Pregnancies\"])"
   ]
  },
  {
   "cell_type": "code",
   "execution_count": 23,
   "metadata": {
    "execution": {
     "iopub.execute_input": "2022-05-02T08:08:57.538943Z",
     "iopub.status.busy": "2022-05-02T08:08:57.538591Z",
     "iopub.status.idle": "2022-05-02T08:08:57.688312Z",
     "shell.execute_reply": "2022-05-02T08:08:57.686348Z",
     "shell.execute_reply.started": "2022-05-02T08:08:57.538894Z"
    }
   },
   "outputs": [
    {
     "name": "stdout",
     "output_type": "stream",
     "text": [
      "Pregnancies \t -6.5 \t 13.5\n",
      "Glucose \t 37.125 \t 202.125\n",
      "BloodPressure \t 35.0 \t 107.0\n",
      "SkinThickness \t -48.0 \t 80.0\n",
      "Insulin \t -190.875 \t 318.125\n",
      "BMI \t 13.35 \t 50.550000000000004\n",
      "DiabetesPedigreeFunction \t -0.32999999999999996 \t 1.2\n",
      "Age \t -1.5 \t 66.5\n",
      "Outcome \t -1.5 \t 2.5\n",
      "\n",
      "*Total number of outliers:  146\n"
     ]
    }
   ],
   "source": [
    "# outlier detection using IQR score\n",
    "\n",
    "Q1 = df.quantile(0.25)\n",
    "Q3 = df.quantile(0.75)\n",
    "IQR = Q3 - Q1\n",
    "\n",
    "IQR1 = Q1-1.5*IQR\n",
    "IQR3 = Q3+1.5*IQR\n",
    "\n",
    "outlier = []\n",
    "count=0\n",
    "totaloutliers=0\n",
    "for i in df.columns:\n",
    "    count1=count+1\n",
    "    if count1>count:\n",
    "        print(i,\"\\t\",IQR1[i],\"\\t\",IQR3[i])\n",
    "    for j in df[i]:\n",
    "        if (j>IQR3[i])|(j<IQR1[i]):\n",
    "            totaloutliers=totaloutliers+1\n",
    "            \n",
    "print(\"\\n*Total number of outliers: \",totaloutliers)\n",
    "\n",
    "# after detecting the outliers, either outliers can be removed or imputed with the mean\n",
    "# or outliers can also be handled using robust statistics: \n",
    "#univariate method\n",
    "#multivariate method\n",
    "#minkowski error\n"
   ]
  },
  {
   "cell_type": "code",
   "execution_count": 24,
   "metadata": {
    "execution": {
     "iopub.execute_input": "2022-05-02T08:08:57.691059Z",
     "iopub.status.busy": "2022-05-02T08:08:57.690709Z",
     "iopub.status.idle": "2022-05-02T08:08:57.700962Z",
     "shell.execute_reply": "2022-05-02T08:08:57.699829Z",
     "shell.execute_reply.started": "2022-05-02T08:08:57.691009Z"
    }
   },
   "outputs": [],
   "source": [
    "# Handling outliers by imputing with mean (same process can be used for capping-upper,lower limits using mean,std)\n",
    "\n",
    "# As the IQR1, IQR3 values will be in decimal format take max,min of non-outlier values to use for range in imputation\n",
    "df_copy = df.copy()\n",
    "def impute_outlier_mean(df_copy,col):\n",
    "    upper = df_copy[~(df_copy>(IQR3[col]))].max()\n",
    "    lower = df_copy[~(df_copy<(IQR1[col]))].min()\n",
    "\n",
    "    df_copy=np.where(df_copy>upper,df_copy.mean(),np.where(df_copy<lower,df_copy.mean(),df_copy))\n",
    "    return df_copy"
   ]
  },
  {
   "cell_type": "code",
   "execution_count": 25,
   "metadata": {
    "execution": {
     "iopub.execute_input": "2022-05-02T08:08:57.828185Z",
     "iopub.status.busy": "2022-05-02T08:08:57.827909Z",
     "iopub.status.idle": "2022-05-02T08:08:57.861732Z",
     "shell.execute_reply": "2022-05-02T08:08:57.859461Z",
     "shell.execute_reply.started": "2022-05-02T08:08:57.828148Z"
    }
   },
   "outputs": [],
   "source": [
    "# Handling outliers by calling above function\n",
    "# Imputed mean in outliers\n",
    "for column in df_copy.columns:\n",
    "    df_copy[column]=impute_outlier_mean(df_copy[column],column)"
   ]
  },
  {
   "cell_type": "code",
   "execution_count": 26,
   "metadata": {
    "execution": {
     "iopub.execute_input": "2022-05-02T08:08:57.881597Z",
     "iopub.status.busy": "2022-05-02T08:08:57.881218Z",
     "iopub.status.idle": "2022-05-02T08:08:57.915880Z",
     "shell.execute_reply": "2022-05-02T08:08:57.915077Z",
     "shell.execute_reply.started": "2022-05-02T08:08:57.881562Z"
    }
   },
   "outputs": [
    {
     "data": {
      "text/plain": [
       "Index(['Pregnancies', 'Glucose', 'BloodPressure', 'SkinThickness', 'Insulin',\n",
       "       'BMI', 'DiabetesPedigreeFunction', 'Age', 'Outcome'],\n",
       "      dtype='object')"
      ]
     },
     "execution_count": 26,
     "metadata": {},
     "output_type": "execute_result"
    }
   ],
   "source": [
    "# Print columns of dataframe\n",
    "df_copy.columns"
   ]
  },
  {
   "cell_type": "code",
   "execution_count": 27,
   "metadata": {
    "execution": {
     "iopub.execute_input": "2022-05-02T08:08:57.917826Z",
     "iopub.status.busy": "2022-05-02T08:08:57.917039Z",
     "iopub.status.idle": "2022-05-02T08:08:57.942096Z",
     "shell.execute_reply": "2022-05-02T08:08:57.941177Z",
     "shell.execute_reply.started": "2022-05-02T08:08:57.917733Z"
    }
   },
   "outputs": [
    {
     "name": "stdout",
     "output_type": "stream",
     "text": [
      "0\n",
      "0\n"
     ]
    }
   ],
   "source": [
    "# Verifying if the outliers are imputed with mean\n",
    "# verify 1\n",
    "print((df_copy[\"Pregnancies\"]>IQR3[\"Pregnancies\"]).sum())\n",
    "print((df_copy[\"Age\"]>IQR3[\"Age\"]).sum())"
   ]
  },
  {
   "cell_type": "code",
   "execution_count": 28,
   "metadata": {
    "execution": {
     "iopub.execute_input": "2022-05-02T08:08:57.943567Z",
     "iopub.status.busy": "2022-05-02T08:08:57.943249Z",
     "iopub.status.idle": "2022-05-02T08:08:57.968237Z",
     "shell.execute_reply": "2022-05-02T08:08:57.967381Z",
     "shell.execute_reply.started": "2022-05-02T08:08:57.943536Z"
    }
   },
   "outputs": [
    {
     "name": "stdout",
     "output_type": "stream",
     "text": [
      "4\n",
      "9\n"
     ]
    }
   ],
   "source": [
    "# Outliers before imputation\n",
    "# verify 2\n",
    "print((df[\"Pregnancies\"]>IQR3[\"Pregnancies\"]).sum())\n",
    "print((df[\"Age\"]>IQR3[\"Age\"]).sum())"
   ]
  },
  {
   "cell_type": "code",
   "execution_count": 29,
   "metadata": {
    "execution": {
     "iopub.execute_input": "2022-05-02T08:08:57.990861Z",
     "iopub.status.busy": "2022-05-02T08:08:57.990565Z",
     "iopub.status.idle": "2022-05-02T08:08:58.028025Z",
     "shell.execute_reply": "2022-05-02T08:08:58.027110Z",
     "shell.execute_reply.started": "2022-05-02T08:08:57.990835Z"
    }
   },
   "outputs": [
    {
     "data": {
      "text/html": [
       "<div>\n",
       "<style scoped>\n",
       "    .dataframe tbody tr th:only-of-type {\n",
       "        vertical-align: middle;\n",
       "    }\n",
       "\n",
       "    .dataframe tbody tr th {\n",
       "        vertical-align: top;\n",
       "    }\n",
       "\n",
       "    .dataframe thead th {\n",
       "        text-align: right;\n",
       "    }\n",
       "</style>\n",
       "<table border=\"1\" class=\"dataframe\">\n",
       "  <thead>\n",
       "    <tr style=\"text-align: right;\">\n",
       "      <th></th>\n",
       "      <th>Pregnancies</th>\n",
       "      <th>Glucose</th>\n",
       "      <th>BloodPressure</th>\n",
       "      <th>SkinThickness</th>\n",
       "      <th>Insulin</th>\n",
       "      <th>BMI</th>\n",
       "      <th>DiabetesPedigreeFunction</th>\n",
       "      <th>Age</th>\n",
       "      <th>Outcome</th>\n",
       "    </tr>\n",
       "  </thead>\n",
       "  <tbody>\n",
       "    <tr>\n",
       "      <th>0</th>\n",
       "      <td>6.0</td>\n",
       "      <td>148.0</td>\n",
       "      <td>72.0</td>\n",
       "      <td>35.0</td>\n",
       "      <td>0.0</td>\n",
       "      <td>33.6</td>\n",
       "      <td>0.627000</td>\n",
       "      <td>50.0</td>\n",
       "      <td>1.0</td>\n",
       "    </tr>\n",
       "    <tr>\n",
       "      <th>1</th>\n",
       "      <td>1.0</td>\n",
       "      <td>85.0</td>\n",
       "      <td>66.0</td>\n",
       "      <td>29.0</td>\n",
       "      <td>0.0</td>\n",
       "      <td>26.6</td>\n",
       "      <td>0.351000</td>\n",
       "      <td>31.0</td>\n",
       "      <td>0.0</td>\n",
       "    </tr>\n",
       "    <tr>\n",
       "      <th>2</th>\n",
       "      <td>8.0</td>\n",
       "      <td>183.0</td>\n",
       "      <td>64.0</td>\n",
       "      <td>0.0</td>\n",
       "      <td>0.0</td>\n",
       "      <td>23.3</td>\n",
       "      <td>0.672000</td>\n",
       "      <td>32.0</td>\n",
       "      <td>1.0</td>\n",
       "    </tr>\n",
       "    <tr>\n",
       "      <th>3</th>\n",
       "      <td>1.0</td>\n",
       "      <td>89.0</td>\n",
       "      <td>66.0</td>\n",
       "      <td>23.0</td>\n",
       "      <td>94.0</td>\n",
       "      <td>28.1</td>\n",
       "      <td>0.167000</td>\n",
       "      <td>21.0</td>\n",
       "      <td>0.0</td>\n",
       "    </tr>\n",
       "    <tr>\n",
       "      <th>4</th>\n",
       "      <td>0.0</td>\n",
       "      <td>137.0</td>\n",
       "      <td>40.0</td>\n",
       "      <td>35.0</td>\n",
       "      <td>168.0</td>\n",
       "      <td>43.1</td>\n",
       "      <td>0.471876</td>\n",
       "      <td>33.0</td>\n",
       "      <td>1.0</td>\n",
       "    </tr>\n",
       "  </tbody>\n",
       "</table>\n",
       "</div>"
      ],
      "text/plain": [
       "   Pregnancies  Glucose  BloodPressure  SkinThickness  Insulin   BMI  \\\n",
       "0          6.0    148.0           72.0           35.0      0.0  33.6   \n",
       "1          1.0     85.0           66.0           29.0      0.0  26.6   \n",
       "2          8.0    183.0           64.0            0.0      0.0  23.3   \n",
       "3          1.0     89.0           66.0           23.0     94.0  28.1   \n",
       "4          0.0    137.0           40.0           35.0    168.0  43.1   \n",
       "\n",
       "   DiabetesPedigreeFunction   Age  Outcome  \n",
       "0                  0.627000  50.0      1.0  \n",
       "1                  0.351000  31.0      0.0  \n",
       "2                  0.672000  32.0      1.0  \n",
       "3                  0.167000  21.0      0.0  \n",
       "4                  0.471876  33.0      1.0  "
      ]
     },
     "execution_count": 29,
     "metadata": {},
     "output_type": "execute_result"
    }
   ],
   "source": [
    "# In \"df_copy\" dataframe all outliers in columns are imputed with means of every column \n",
    "df_copy.head()"
   ]
  },
  {
   "cell_type": "code",
   "execution_count": 30,
   "metadata": {},
   "outputs": [],
   "source": [
    "df_outlr = df_copy.copy()"
   ]
  },
  {
   "cell_type": "code",
   "execution_count": 31,
   "metadata": {
    "execution": {
     "iopub.execute_input": "2022-05-02T08:08:58.029340Z",
     "iopub.status.busy": "2022-05-02T08:08:58.028949Z",
     "iopub.status.idle": "2022-05-02T08:08:58.049584Z",
     "shell.execute_reply": "2022-05-02T08:08:58.047733Z",
     "shell.execute_reply.started": "2022-05-02T08:08:58.029279Z"
    }
   },
   "outputs": [
    {
     "data": {
      "text/plain": [
       "0.0    500\n",
       "1.0    268\n",
       "Name: Outcome, dtype: int64"
      ]
     },
     "execution_count": 31,
     "metadata": {},
     "output_type": "execute_result"
    }
   ],
   "source": [
    "# Count of each unique value in a column\n",
    "df_outlr[\"Outcome\"].value_counts()\n"
   ]
  },
  {
   "cell_type": "code",
   "execution_count": 32,
   "metadata": {
    "execution": {
     "iopub.execute_input": "2022-05-02T08:08:58.052597Z",
     "iopub.status.busy": "2022-05-02T08:08:58.052290Z",
     "iopub.status.idle": "2022-05-02T08:08:58.073779Z",
     "shell.execute_reply": "2022-05-02T08:08:58.071896Z",
     "shell.execute_reply.started": "2022-05-02T08:08:58.052563Z"
    }
   },
   "outputs": [
    {
     "data": {
      "text/plain": [
       "((768, 8), (768,))"
      ]
     },
     "execution_count": 32,
     "metadata": {},
     "output_type": "execute_result"
    }
   ],
   "source": [
    "# Take dependent and independent variables into X and Y\n",
    "X = df_outlr.drop(\"Outcome\",axis=1)\n",
    "Y = df_outlr[\"Outcome\"]\n",
    "X.shape, Y.shape"
   ]
  },
  {
   "cell_type": "markdown",
   "metadata": {},
   "source": [
    "**Sampling**"
   ]
  },
  {
   "cell_type": "markdown",
   "metadata": {
    "execution": {
     "iopub.execute_input": "2022-05-02T08:08:58.076498Z",
     "iopub.status.busy": "2022-05-02T08:08:58.076168Z",
     "iopub.status.idle": "2022-05-02T08:08:58.095019Z",
     "shell.execute_reply": "2022-05-02T08:08:58.093194Z",
     "shell.execute_reply.started": "2022-05-02T08:08:58.076465Z"
    }
   },
   "source": [
    "* From the above result it is clear that the dataset is an imbalanced\n",
    "* NEED to handle the imbalance in dataset\n",
    "\n",
    "* To handle an imbalanced dataset we need to do sampling using existing dataset observations\n",
    "* We can do two types of sampling: 1. Under Sampling or Down Sampling 2. Over Sampling or UpSampling\n",
    "\n",
    "* We can go for UnderSampling only when the dataset is very large like when it has million observations\n",
    "* As the Diabetes dataset we are working with has very less observations we are going for OverSampling\n",
    "\n",
    "* For OverSampling we can use three different libraries\n",
    "* 1.RandomOverSampler 2.SMOTETomek 3.SMOTEEENN\n",
    "* In this use case I am gonna use SMOTETomek which is combination of both under sampling and oversampling"
   ]
  },
  {
   "cell_type": "code",
   "execution_count": 33,
   "metadata": {
    "execution": {
     "iopub.execute_input": "2022-05-02T08:08:58.097673Z",
     "iopub.status.busy": "2022-05-02T08:08:58.097346Z",
     "iopub.status.idle": "2022-05-02T08:08:58.534182Z",
     "shell.execute_reply": "2022-05-02T08:08:58.533167Z",
     "shell.execute_reply.started": "2022-05-02T08:08:58.097640Z"
    }
   },
   "outputs": [
    {
     "data": {
      "text/plain": [
       "((938, 8), (938,))"
      ]
     },
     "execution_count": 33,
     "metadata": {},
     "output_type": "execute_result"
    }
   ],
   "source": [
    "# Using SMOTETomek(combination of over and under sampling read doc)\n",
    "from imblearn.combine import SMOTETomek\n",
    "smk = SMOTETomek()\n",
    "X_res,y_res=smk.fit_resample(X,Y)\n",
    "X_res.shape,y_res.shape"
   ]
  },
  {
   "cell_type": "code",
   "execution_count": 34,
   "metadata": {
    "execution": {
     "iopub.execute_input": "2022-05-02T08:08:58.536503Z",
     "iopub.status.busy": "2022-05-02T08:08:58.535510Z",
     "iopub.status.idle": "2022-05-02T08:08:58.546087Z",
     "shell.execute_reply": "2022-05-02T08:08:58.545397Z",
     "shell.execute_reply.started": "2022-05-02T08:08:58.536464Z"
    }
   },
   "outputs": [
    {
     "name": "stdout",
     "output_type": "stream",
     "text": [
      "Original dataset shape (768, 8) (768,)\n",
      "Sampled dataset shape (938, 8) (938,)\n"
     ]
    }
   ],
   "source": [
    "print(\"Original dataset shape\",X.shape,Y.shape)\n",
    "print(\"Sampled dataset shape\",X_res.shape,y_res.shape)"
   ]
  },
  {
   "cell_type": "code",
   "execution_count": 35,
   "metadata": {
    "execution": {
     "iopub.execute_input": "2022-05-02T08:08:58.548228Z",
     "iopub.status.busy": "2022-05-02T08:08:58.547343Z",
     "iopub.status.idle": "2022-05-02T08:08:58.565127Z",
     "shell.execute_reply": "2022-05-02T08:08:58.563690Z",
     "shell.execute_reply.started": "2022-05-02T08:08:58.548187Z"
    }
   },
   "outputs": [
    {
     "data": {
      "text/plain": [
       "pandas.core.series.Series"
      ]
     },
     "execution_count": 35,
     "metadata": {},
     "output_type": "execute_result"
    }
   ],
   "source": [
    "type(X_res)\n",
    "type(y_res)"
   ]
  },
  {
   "cell_type": "code",
   "execution_count": 36,
   "metadata": {
    "execution": {
     "iopub.execute_input": "2022-05-02T08:08:58.568390Z",
     "iopub.status.busy": "2022-05-02T08:08:58.567961Z",
     "iopub.status.idle": "2022-05-02T08:08:58.581881Z",
     "shell.execute_reply": "2022-05-02T08:08:58.580866Z",
     "shell.execute_reply.started": "2022-05-02T08:08:58.568346Z"
    }
   },
   "outputs": [],
   "source": [
    "df_sampled = pd.concat([X_res,y_res],axis=1)"
   ]
  },
  {
   "cell_type": "code",
   "execution_count": 37,
   "metadata": {
    "execution": {
     "iopub.execute_input": "2022-05-02T08:08:58.584218Z",
     "iopub.status.busy": "2022-05-02T08:08:58.583795Z",
     "iopub.status.idle": "2022-05-02T08:08:58.620228Z",
     "shell.execute_reply": "2022-05-02T08:08:58.618862Z",
     "shell.execute_reply.started": "2022-05-02T08:08:58.584167Z"
    }
   },
   "outputs": [
    {
     "name": "stdout",
     "output_type": "stream",
     "text": [
      "(938, 9)\n"
     ]
    },
    {
     "data": {
      "text/html": [
       "<div>\n",
       "<style scoped>\n",
       "    .dataframe tbody tr th:only-of-type {\n",
       "        vertical-align: middle;\n",
       "    }\n",
       "\n",
       "    .dataframe tbody tr th {\n",
       "        vertical-align: top;\n",
       "    }\n",
       "\n",
       "    .dataframe thead th {\n",
       "        text-align: right;\n",
       "    }\n",
       "</style>\n",
       "<table border=\"1\" class=\"dataframe\">\n",
       "  <thead>\n",
       "    <tr style=\"text-align: right;\">\n",
       "      <th></th>\n",
       "      <th>Pregnancies</th>\n",
       "      <th>Glucose</th>\n",
       "      <th>BloodPressure</th>\n",
       "      <th>SkinThickness</th>\n",
       "      <th>Insulin</th>\n",
       "      <th>BMI</th>\n",
       "      <th>DiabetesPedigreeFunction</th>\n",
       "      <th>Age</th>\n",
       "      <th>Outcome</th>\n",
       "    </tr>\n",
       "  </thead>\n",
       "  <tbody>\n",
       "    <tr>\n",
       "      <th>0</th>\n",
       "      <td>6.0</td>\n",
       "      <td>148.0</td>\n",
       "      <td>72.0</td>\n",
       "      <td>35.0</td>\n",
       "      <td>0.0</td>\n",
       "      <td>33.6</td>\n",
       "      <td>0.627000</td>\n",
       "      <td>50.0</td>\n",
       "      <td>1.0</td>\n",
       "    </tr>\n",
       "    <tr>\n",
       "      <th>1</th>\n",
       "      <td>1.0</td>\n",
       "      <td>85.0</td>\n",
       "      <td>66.0</td>\n",
       "      <td>29.0</td>\n",
       "      <td>0.0</td>\n",
       "      <td>26.6</td>\n",
       "      <td>0.351000</td>\n",
       "      <td>31.0</td>\n",
       "      <td>0.0</td>\n",
       "    </tr>\n",
       "    <tr>\n",
       "      <th>2</th>\n",
       "      <td>8.0</td>\n",
       "      <td>183.0</td>\n",
       "      <td>64.0</td>\n",
       "      <td>0.0</td>\n",
       "      <td>0.0</td>\n",
       "      <td>23.3</td>\n",
       "      <td>0.672000</td>\n",
       "      <td>32.0</td>\n",
       "      <td>1.0</td>\n",
       "    </tr>\n",
       "    <tr>\n",
       "      <th>3</th>\n",
       "      <td>1.0</td>\n",
       "      <td>89.0</td>\n",
       "      <td>66.0</td>\n",
       "      <td>23.0</td>\n",
       "      <td>94.0</td>\n",
       "      <td>28.1</td>\n",
       "      <td>0.167000</td>\n",
       "      <td>21.0</td>\n",
       "      <td>0.0</td>\n",
       "    </tr>\n",
       "    <tr>\n",
       "      <th>4</th>\n",
       "      <td>0.0</td>\n",
       "      <td>137.0</td>\n",
       "      <td>40.0</td>\n",
       "      <td>35.0</td>\n",
       "      <td>168.0</td>\n",
       "      <td>43.1</td>\n",
       "      <td>0.471876</td>\n",
       "      <td>33.0</td>\n",
       "      <td>1.0</td>\n",
       "    </tr>\n",
       "  </tbody>\n",
       "</table>\n",
       "</div>"
      ],
      "text/plain": [
       "   Pregnancies  Glucose  BloodPressure  SkinThickness  Insulin   BMI  \\\n",
       "0          6.0    148.0           72.0           35.0      0.0  33.6   \n",
       "1          1.0     85.0           66.0           29.0      0.0  26.6   \n",
       "2          8.0    183.0           64.0            0.0      0.0  23.3   \n",
       "3          1.0     89.0           66.0           23.0     94.0  28.1   \n",
       "4          0.0    137.0           40.0           35.0    168.0  43.1   \n",
       "\n",
       "   DiabetesPedigreeFunction   Age  Outcome  \n",
       "0                  0.627000  50.0      1.0  \n",
       "1                  0.351000  31.0      0.0  \n",
       "2                  0.672000  32.0      1.0  \n",
       "3                  0.167000  21.0      0.0  \n",
       "4                  0.471876  33.0      1.0  "
      ]
     },
     "execution_count": 37,
     "metadata": {},
     "output_type": "execute_result"
    }
   ],
   "source": [
    "print(df_sampled.shape)\n",
    "df_sampled.head()"
   ]
  },
  {
   "cell_type": "code",
   "execution_count": 38,
   "metadata": {
    "execution": {
     "iopub.execute_input": "2022-05-02T08:08:58.623029Z",
     "iopub.status.busy": "2022-05-02T08:08:58.622115Z",
     "iopub.status.idle": "2022-05-02T08:08:58.631385Z",
     "shell.execute_reply": "2022-05-02T08:08:58.630297Z",
     "shell.execute_reply.started": "2022-05-02T08:08:58.622988Z"
    }
   },
   "outputs": [
    {
     "data": {
      "text/plain": [
       "0.0    469\n",
       "1.0    469\n",
       "Name: Outcome, dtype: int64"
      ]
     },
     "execution_count": 38,
     "metadata": {},
     "output_type": "execute_result"
    }
   ],
   "source": [
    "df_sampled[\"Outcome\"].value_counts()"
   ]
  },
  {
   "cell_type": "markdown",
   "metadata": {},
   "source": [
    "**EDA**"
   ]
  },
  {
   "cell_type": "code",
   "execution_count": 39,
   "metadata": {
    "execution": {
     "iopub.execute_input": "2022-05-02T08:08:58.633105Z",
     "iopub.status.busy": "2022-05-02T08:08:58.632790Z",
     "iopub.status.idle": "2022-05-02T08:08:58.665044Z",
     "shell.execute_reply": "2022-05-02T08:08:58.664474Z",
     "shell.execute_reply.started": "2022-05-02T08:08:58.633071Z"
    }
   },
   "outputs": [
    {
     "data": {
      "text/html": [
       "<div>\n",
       "<style scoped>\n",
       "    .dataframe tbody tr th:only-of-type {\n",
       "        vertical-align: middle;\n",
       "    }\n",
       "\n",
       "    .dataframe tbody tr th {\n",
       "        vertical-align: top;\n",
       "    }\n",
       "\n",
       "    .dataframe thead th {\n",
       "        text-align: right;\n",
       "    }\n",
       "</style>\n",
       "<table border=\"1\" class=\"dataframe\">\n",
       "  <thead>\n",
       "    <tr style=\"text-align: right;\">\n",
       "      <th></th>\n",
       "      <th>Pregnancies</th>\n",
       "      <th>Glucose</th>\n",
       "      <th>BloodPressure</th>\n",
       "      <th>SkinThickness</th>\n",
       "      <th>Insulin</th>\n",
       "      <th>BMI</th>\n",
       "      <th>DiabetesPedigreeFunction</th>\n",
       "      <th>Age</th>\n",
       "      <th>Outcome</th>\n",
       "    </tr>\n",
       "  </thead>\n",
       "  <tbody>\n",
       "    <tr>\n",
       "      <th>Pregnancies</th>\n",
       "      <td>1.000000</td>\n",
       "      <td>0.129459</td>\n",
       "      <td>0.141282</td>\n",
       "      <td>-0.081672</td>\n",
       "      <td>-0.073535</td>\n",
       "      <td>0.017683</td>\n",
       "      <td>-0.033523</td>\n",
       "      <td>0.544341</td>\n",
       "      <td>0.221898</td>\n",
       "    </tr>\n",
       "    <tr>\n",
       "      <th>Glucose</th>\n",
       "      <td>0.129459</td>\n",
       "      <td>1.000000</td>\n",
       "      <td>0.152590</td>\n",
       "      <td>0.057328</td>\n",
       "      <td>0.331357</td>\n",
       "      <td>0.221071</td>\n",
       "      <td>0.137337</td>\n",
       "      <td>0.263514</td>\n",
       "      <td>0.466581</td>\n",
       "    </tr>\n",
       "    <tr>\n",
       "      <th>BloodPressure</th>\n",
       "      <td>0.141282</td>\n",
       "      <td>0.152590</td>\n",
       "      <td>1.000000</td>\n",
       "      <td>0.207371</td>\n",
       "      <td>0.088933</td>\n",
       "      <td>0.281805</td>\n",
       "      <td>0.041265</td>\n",
       "      <td>0.239528</td>\n",
       "      <td>0.065068</td>\n",
       "    </tr>\n",
       "    <tr>\n",
       "      <th>SkinThickness</th>\n",
       "      <td>-0.081672</td>\n",
       "      <td>0.057328</td>\n",
       "      <td>0.207371</td>\n",
       "      <td>1.000000</td>\n",
       "      <td>0.436783</td>\n",
       "      <td>0.392573</td>\n",
       "      <td>0.183928</td>\n",
       "      <td>-0.113970</td>\n",
       "      <td>0.074752</td>\n",
       "    </tr>\n",
       "    <tr>\n",
       "      <th>Insulin</th>\n",
       "      <td>-0.073535</td>\n",
       "      <td>0.331357</td>\n",
       "      <td>0.088933</td>\n",
       "      <td>0.436783</td>\n",
       "      <td>1.000000</td>\n",
       "      <td>0.197859</td>\n",
       "      <td>0.185071</td>\n",
       "      <td>-0.042163</td>\n",
       "      <td>0.130548</td>\n",
       "    </tr>\n",
       "    <tr>\n",
       "      <th>BMI</th>\n",
       "      <td>0.017683</td>\n",
       "      <td>0.221071</td>\n",
       "      <td>0.281805</td>\n",
       "      <td>0.392573</td>\n",
       "      <td>0.197859</td>\n",
       "      <td>1.000000</td>\n",
       "      <td>0.140647</td>\n",
       "      <td>0.036242</td>\n",
       "      <td>0.292695</td>\n",
       "    </tr>\n",
       "    <tr>\n",
       "      <th>DiabetesPedigreeFunction</th>\n",
       "      <td>-0.033523</td>\n",
       "      <td>0.137337</td>\n",
       "      <td>0.041265</td>\n",
       "      <td>0.183928</td>\n",
       "      <td>0.185071</td>\n",
       "      <td>0.140647</td>\n",
       "      <td>1.000000</td>\n",
       "      <td>0.033561</td>\n",
       "      <td>0.173844</td>\n",
       "    </tr>\n",
       "    <tr>\n",
       "      <th>Age</th>\n",
       "      <td>0.544341</td>\n",
       "      <td>0.263514</td>\n",
       "      <td>0.239528</td>\n",
       "      <td>-0.113970</td>\n",
       "      <td>-0.042163</td>\n",
       "      <td>0.036242</td>\n",
       "      <td>0.033561</td>\n",
       "      <td>1.000000</td>\n",
       "      <td>0.238356</td>\n",
       "    </tr>\n",
       "    <tr>\n",
       "      <th>Outcome</th>\n",
       "      <td>0.221898</td>\n",
       "      <td>0.466581</td>\n",
       "      <td>0.065068</td>\n",
       "      <td>0.074752</td>\n",
       "      <td>0.130548</td>\n",
       "      <td>0.292695</td>\n",
       "      <td>0.173844</td>\n",
       "      <td>0.238356</td>\n",
       "      <td>1.000000</td>\n",
       "    </tr>\n",
       "  </tbody>\n",
       "</table>\n",
       "</div>"
      ],
      "text/plain": [
       "                          Pregnancies   Glucose  BloodPressure  SkinThickness  \\\n",
       "Pregnancies                  1.000000  0.129459       0.141282      -0.081672   \n",
       "Glucose                      0.129459  1.000000       0.152590       0.057328   \n",
       "BloodPressure                0.141282  0.152590       1.000000       0.207371   \n",
       "SkinThickness               -0.081672  0.057328       0.207371       1.000000   \n",
       "Insulin                     -0.073535  0.331357       0.088933       0.436783   \n",
       "BMI                          0.017683  0.221071       0.281805       0.392573   \n",
       "DiabetesPedigreeFunction    -0.033523  0.137337       0.041265       0.183928   \n",
       "Age                          0.544341  0.263514       0.239528      -0.113970   \n",
       "Outcome                      0.221898  0.466581       0.065068       0.074752   \n",
       "\n",
       "                           Insulin       BMI  DiabetesPedigreeFunction  \\\n",
       "Pregnancies              -0.073535  0.017683                 -0.033523   \n",
       "Glucose                   0.331357  0.221071                  0.137337   \n",
       "BloodPressure             0.088933  0.281805                  0.041265   \n",
       "SkinThickness             0.436783  0.392573                  0.183928   \n",
       "Insulin                   1.000000  0.197859                  0.185071   \n",
       "BMI                       0.197859  1.000000                  0.140647   \n",
       "DiabetesPedigreeFunction  0.185071  0.140647                  1.000000   \n",
       "Age                      -0.042163  0.036242                  0.033561   \n",
       "Outcome                   0.130548  0.292695                  0.173844   \n",
       "\n",
       "                               Age   Outcome  \n",
       "Pregnancies               0.544341  0.221898  \n",
       "Glucose                   0.263514  0.466581  \n",
       "BloodPressure             0.239528  0.065068  \n",
       "SkinThickness            -0.113970  0.074752  \n",
       "Insulin                  -0.042163  0.130548  \n",
       "BMI                       0.036242  0.292695  \n",
       "DiabetesPedigreeFunction  0.033561  0.173844  \n",
       "Age                       1.000000  0.238356  \n",
       "Outcome                   0.238356  1.000000  "
      ]
     },
     "execution_count": 39,
     "metadata": {},
     "output_type": "execute_result"
    }
   ],
   "source": [
    "# Correlation\n",
    "# default correlation method: Pearson\n",
    "\n",
    "df.corr()"
   ]
  },
  {
   "cell_type": "code",
   "execution_count": 40,
   "metadata": {
    "execution": {
     "iopub.execute_input": "2022-05-02T08:08:58.666570Z",
     "iopub.status.busy": "2022-05-02T08:08:58.666330Z",
     "iopub.status.idle": "2022-05-02T08:08:58.688639Z",
     "shell.execute_reply": "2022-05-02T08:08:58.688025Z",
     "shell.execute_reply.started": "2022-05-02T08:08:58.666539Z"
    }
   },
   "outputs": [
    {
     "data": {
      "text/plain": [
       "Pregnancies                   int64\n",
       "Glucose                       int64\n",
       "BloodPressure                 int64\n",
       "SkinThickness                 int64\n",
       "Insulin                       int64\n",
       "BMI                         float64\n",
       "DiabetesPedigreeFunction    float64\n",
       "Age                           int64\n",
       "Outcome                       int64\n",
       "dtype: object"
      ]
     },
     "execution_count": 40,
     "metadata": {},
     "output_type": "execute_result"
    }
   ],
   "source": [
    "df.dtypes"
   ]
  },
  {
   "cell_type": "code",
   "execution_count": 41,
   "metadata": {
    "execution": {
     "iopub.execute_input": "2022-05-02T08:08:58.795621Z",
     "iopub.status.busy": "2022-05-02T08:08:58.794500Z",
     "iopub.status.idle": "2022-05-02T08:08:59.512361Z",
     "shell.execute_reply": "2022-05-02T08:08:59.511016Z",
     "shell.execute_reply.started": "2022-05-02T08:08:58.795577Z"
    }
   },
   "outputs": [
    {
     "data": {
      "text/plain": [
       "<AxesSubplot:>"
      ]
     },
     "execution_count": 41,
     "metadata": {},
     "output_type": "execute_result"
    },
    {
     "data": {
      "image/png": "[encoded data removed]",
      "text/plain": [
       "<Figure size 432x288 with 2 Axes>"
      ]
     },
     "metadata": {
      "needs_background": "light"
     },
     "output_type": "display_data"
    }
   ],
   "source": [
    "# correlation with seaborn heat map (ranges from -1 to +1)\n",
    "sns.heatmap(df.corr())"
   ]
  },
  {
   "cell_type": "code",
   "execution_count": 42,
   "metadata": {
    "execution": {
     "iopub.execute_input": "2022-05-02T08:08:59.514492Z",
     "iopub.status.busy": "2022-05-02T08:08:59.514175Z",
     "iopub.status.idle": "2022-05-02T08:09:00.316043Z",
     "shell.execute_reply": "2022-05-02T08:09:00.315272Z",
     "shell.execute_reply.started": "2022-05-02T08:08:59.514453Z"
    }
   },
   "outputs": [
    {
     "data": {
      "text/plain": [
       "Text(0.5, 1.0, 'Correlation Heatmap')"
      ]
     },
     "execution_count": 42,
     "metadata": {},
     "output_type": "execute_result"
    },
    {
     "data": {
      "image/png": "[encoded data removed]",
      "text/plain": [
       "<Figure size 1152x648 with 2 Axes>"
      ]
     },
     "metadata": {
      "needs_background": "light"
     },
     "output_type": "display_data"
    }
   ],
   "source": [
    "# increase figure size\n",
    "plt.figure(figsize=(16,9))\n",
    "# annot=True shows numbers on plot\n",
    "# vmin, vmax to show scale from -1 to 1\n",
    "# center True to show map in center colors i.e., blue color\n",
    "heatmap = sns.heatmap(df.corr(),vmin=-1,vmax=1,annot=True,center=True)    \n",
    "heatmap.set_title(\"Correlation Heatmap\")"
   ]
  },
  {
   "cell_type": "markdown",
   "metadata": {},
   "source": [
    "* From above correlation heat map we can see that target variable \"outcome\" is positively correlated with Glucose,Age,Pregnancies,Diabetes pedigree function,Insulin \n",
    "* From above analysis the Independent variables are linearly correlated with Target variable"
   ]
  },
  {
   "cell_type": "code",
   "execution_count": 43,
   "metadata": {
    "execution": {
     "iopub.execute_input": "2022-05-02T08:09:00.317886Z",
     "iopub.status.busy": "2022-05-02T08:09:00.317223Z",
     "iopub.status.idle": "2022-05-02T08:09:00.327882Z",
     "shell.execute_reply": "2022-05-02T08:09:00.327033Z",
     "shell.execute_reply.started": "2022-05-02T08:09:00.317810Z"
    }
   },
   "outputs": [
    {
     "data": {
      "text/plain": [
       "array([-0.11397026, -0.08167177, -0.07353461, -0.04216295, -0.03352267,\n",
       "        0.01768309,  0.03356131,  0.03624187,  0.04126495,  0.05732789,\n",
       "        0.06506836,  0.07475223,  0.08893338,  0.12945867,  0.13054795,\n",
       "        0.1373373 ,  0.14064695,  0.14128198,  0.15258959,  0.17384407,\n",
       "        0.18392757,  0.18507093,  0.19785906,  0.20737054,  0.22107107,\n",
       "        0.22189815,  0.23835598,  0.23952795,  0.26351432,  0.28180529,\n",
       "        0.29269466,  0.33135711,  0.3925732 ,  0.43678257,  0.4665814 ,\n",
       "        0.54434123,  1.        ])"
      ]
     },
     "execution_count": 43,
     "metadata": {},
     "output_type": "execute_result"
    }
   ],
   "source": [
    "# Summary of above correlation matrix\n",
    "corr_values = df.corr()\n",
    "# unstack(to convert to series) to sort_values\n",
    "unstack_values = corr_values.unstack()\n",
    "# sort and find unique values\n",
    "sorted_values = unstack_values.sort_values(kind=\"quicksort\").unique()\n",
    "sorted_values"
   ]
  },
  {
   "cell_type": "markdown",
   "metadata": {
    "execution": {
     "iopub.execute_input": "2022-05-02T08:09:00.329762Z",
     "iopub.status.busy": "2022-05-02T08:09:00.329385Z",
     "iopub.status.idle": "2022-05-02T08:09:00.347498Z",
     "shell.execute_reply": "2022-05-02T08:09:00.346868Z",
     "shell.execute_reply.started": "2022-05-02T08:09:00.329725Z"
    }
   },
   "source": [
    "* From above sorting and correlation heatmap we can say\n",
    "* Highest 0.54- Age & Pregnancies, 0.47- Outcome & Glucose, 0.44- Insulin & Skinthickness\n",
    "* There is 0.54 correlation between Age and Pregnancies, Age is directly proportional to Pregnancies.\n",
    "* There is a correlation of 0.47 between Outcome & Glucose. As glucose level increases the result of having diabetes increases.\n",
    "* There is a correlation of 0.44 Insulin & Skinthickness. As skin thickness increases the Insulin level also increases"
   ]
  },
  {
   "cell_type": "code",
   "execution_count": 44,
   "metadata": {
    "execution": {
     "iopub.execute_input": "2022-05-02T08:09:00.349535Z",
     "iopub.status.busy": "2022-05-02T08:09:00.348992Z",
     "iopub.status.idle": "2022-05-02T08:09:00.384596Z",
     "shell.execute_reply": "2022-05-02T08:09:00.383705Z",
     "shell.execute_reply.started": "2022-05-02T08:09:00.349496Z"
    }
   },
   "outputs": [
    {
     "data": {
      "text/html": [
       "<div>\n",
       "<style scoped>\n",
       "    .dataframe tbody tr th:only-of-type {\n",
       "        vertical-align: middle;\n",
       "    }\n",
       "\n",
       "    .dataframe tbody tr th {\n",
       "        vertical-align: top;\n",
       "    }\n",
       "\n",
       "    .dataframe thead th {\n",
       "        text-align: right;\n",
       "    }\n",
       "</style>\n",
       "<table border=\"1\" class=\"dataframe\">\n",
       "  <thead>\n",
       "    <tr style=\"text-align: right;\">\n",
       "      <th></th>\n",
       "      <th>Pregnancies</th>\n",
       "      <th>Glucose</th>\n",
       "      <th>BloodPressure</th>\n",
       "      <th>SkinThickness</th>\n",
       "      <th>Insulin</th>\n",
       "      <th>BMI</th>\n",
       "      <th>DiabetesPedigreeFunction</th>\n",
       "      <th>Age</th>\n",
       "      <th>Outcome</th>\n",
       "    </tr>\n",
       "  </thead>\n",
       "  <tbody>\n",
       "    <tr>\n",
       "      <th>Pregnancies</th>\n",
       "      <td>11.354056</td>\n",
       "      <td>13.947131</td>\n",
       "      <td>9.214538</td>\n",
       "      <td>-4.390041</td>\n",
       "      <td>-28.555231</td>\n",
       "      <td>0.469774</td>\n",
       "      <td>-0.037426</td>\n",
       "      <td>21.570620</td>\n",
       "      <td>0.356618</td>\n",
       "    </tr>\n",
       "    <tr>\n",
       "      <th>Glucose</th>\n",
       "      <td>13.947131</td>\n",
       "      <td>1022.248314</td>\n",
       "      <td>94.430956</td>\n",
       "      <td>29.239183</td>\n",
       "      <td>1220.935799</td>\n",
       "      <td>55.726987</td>\n",
       "      <td>1.454875</td>\n",
       "      <td>99.082805</td>\n",
       "      <td>7.115079</td>\n",
       "    </tr>\n",
       "    <tr>\n",
       "      <th>BloodPressure</th>\n",
       "      <td>9.214538</td>\n",
       "      <td>94.430956</td>\n",
       "      <td>374.647271</td>\n",
       "      <td>64.029396</td>\n",
       "      <td>198.378412</td>\n",
       "      <td>43.004695</td>\n",
       "      <td>0.264638</td>\n",
       "      <td>54.523453</td>\n",
       "      <td>0.600697</td>\n",
       "    </tr>\n",
       "    <tr>\n",
       "      <th>SkinThickness</th>\n",
       "      <td>-4.390041</td>\n",
       "      <td>29.239183</td>\n",
       "      <td>64.029396</td>\n",
       "      <td>254.473245</td>\n",
       "      <td>802.979941</td>\n",
       "      <td>49.373869</td>\n",
       "      <td>0.972136</td>\n",
       "      <td>-21.381023</td>\n",
       "      <td>0.568747</td>\n",
       "    </tr>\n",
       "    <tr>\n",
       "      <th>Insulin</th>\n",
       "      <td>-28.555231</td>\n",
       "      <td>1220.935799</td>\n",
       "      <td>198.378412</td>\n",
       "      <td>802.979941</td>\n",
       "      <td>13281.180078</td>\n",
       "      <td>179.775172</td>\n",
       "      <td>7.066681</td>\n",
       "      <td>-57.143290</td>\n",
       "      <td>7.175671</td>\n",
       "    </tr>\n",
       "    <tr>\n",
       "      <th>BMI</th>\n",
       "      <td>0.469774</td>\n",
       "      <td>55.726987</td>\n",
       "      <td>43.004695</td>\n",
       "      <td>49.373869</td>\n",
       "      <td>179.775172</td>\n",
       "      <td>62.159984</td>\n",
       "      <td>0.367405</td>\n",
       "      <td>3.360330</td>\n",
       "      <td>1.100638</td>\n",
       "    </tr>\n",
       "    <tr>\n",
       "      <th>DiabetesPedigreeFunction</th>\n",
       "      <td>-0.037426</td>\n",
       "      <td>1.454875</td>\n",
       "      <td>0.264638</td>\n",
       "      <td>0.972136</td>\n",
       "      <td>7.066681</td>\n",
       "      <td>0.367405</td>\n",
       "      <td>0.109779</td>\n",
       "      <td>0.130772</td>\n",
       "      <td>0.027472</td>\n",
       "    </tr>\n",
       "    <tr>\n",
       "      <th>Age</th>\n",
       "      <td>21.570620</td>\n",
       "      <td>99.082805</td>\n",
       "      <td>54.523453</td>\n",
       "      <td>-21.381023</td>\n",
       "      <td>-57.143290</td>\n",
       "      <td>3.360330</td>\n",
       "      <td>0.130772</td>\n",
       "      <td>138.303046</td>\n",
       "      <td>1.336953</td>\n",
       "    </tr>\n",
       "    <tr>\n",
       "      <th>Outcome</th>\n",
       "      <td>0.356618</td>\n",
       "      <td>7.115079</td>\n",
       "      <td>0.600697</td>\n",
       "      <td>0.568747</td>\n",
       "      <td>7.175671</td>\n",
       "      <td>1.100638</td>\n",
       "      <td>0.027472</td>\n",
       "      <td>1.336953</td>\n",
       "      <td>0.227483</td>\n",
       "    </tr>\n",
       "  </tbody>\n",
       "</table>\n",
       "</div>"
      ],
      "text/plain": [
       "                          Pregnancies      Glucose  BloodPressure  \\\n",
       "Pregnancies                 11.354056    13.947131       9.214538   \n",
       "Glucose                     13.947131  1022.248314      94.430956   \n",
       "BloodPressure                9.214538    94.430956     374.647271   \n",
       "SkinThickness               -4.390041    29.239183      64.029396   \n",
       "Insulin                    -28.555231  1220.935799     198.378412   \n",
       "BMI                          0.469774    55.726987      43.004695   \n",
       "DiabetesPedigreeFunction    -0.037426     1.454875       0.264638   \n",
       "Age                         21.570620    99.082805      54.523453   \n",
       "Outcome                      0.356618     7.115079       0.600697   \n",
       "\n",
       "                          SkinThickness       Insulin         BMI  \\\n",
       "Pregnancies                   -4.390041    -28.555231    0.469774   \n",
       "Glucose                       29.239183   1220.935799   55.726987   \n",
       "BloodPressure                 64.029396    198.378412   43.004695   \n",
       "SkinThickness                254.473245    802.979941   49.373869   \n",
       "Insulin                      802.979941  13281.180078  179.775172   \n",
       "BMI                           49.373869    179.775172   62.159984   \n",
       "DiabetesPedigreeFunction       0.972136      7.066681    0.367405   \n",
       "Age                          -21.381023    -57.143290    3.360330   \n",
       "Outcome                        0.568747      7.175671    1.100638   \n",
       "\n",
       "                          DiabetesPedigreeFunction         Age   Outcome  \n",
       "Pregnancies                              -0.037426   21.570620  0.356618  \n",
       "Glucose                                   1.454875   99.082805  7.115079  \n",
       "BloodPressure                             0.264638   54.523453  0.600697  \n",
       "SkinThickness                             0.972136  -21.381023  0.568747  \n",
       "Insulin                                   7.066681  -57.143290  7.175671  \n",
       "BMI                                       0.367405    3.360330  1.100638  \n",
       "DiabetesPedigreeFunction                  0.109779    0.130772  0.027472  \n",
       "Age                                       0.130772  138.303046  1.336953  \n",
       "Outcome                                   0.027472    1.336953  0.227483  "
      ]
     },
     "execution_count": 44,
     "metadata": {},
     "output_type": "execute_result"
    }
   ],
   "source": [
    "# Covariance  (ranges from -inf to +inf)\n",
    "df.cov()"
   ]
  },
  {
   "cell_type": "code",
   "execution_count": 45,
   "metadata": {
    "execution": {
     "iopub.execute_input": "2022-05-02T08:09:00.386615Z",
     "iopub.status.busy": "2022-05-02T08:09:00.386167Z",
     "iopub.status.idle": "2022-05-02T08:09:01.114931Z",
     "shell.execute_reply": "2022-05-02T08:09:01.113392Z",
     "shell.execute_reply.started": "2022-05-02T08:09:00.386579Z"
    }
   },
   "outputs": [
    {
     "data": {
      "text/plain": [
       "<AxesSubplot:>"
      ]
     },
     "execution_count": 45,
     "metadata": {},
     "output_type": "execute_result"
    },
    {
     "data": {
      "image/png": "[encoded data removed]",
      "text/plain": [
       "<Figure size 1152x648 with 2 Axes>"
      ]
     },
     "metadata": {
      "needs_background": "light"
     },
     "output_type": "display_data"
    }
   ],
   "source": [
    "# Covariance heatmap\n",
    "plt.figure(figsize=(16,9))\n",
    "sns.heatmap(df.cov(),vmin=-100,vmax=100,annot=True,center=True)"
   ]
  },
  {
   "cell_type": "markdown",
   "metadata": {
    "execution": {
     "iopub.execute_input": "2022-05-02T08:09:01.116609Z",
     "iopub.status.busy": "2022-05-02T08:09:01.116305Z",
     "iopub.status.idle": "2022-05-02T08:09:01.121726Z",
     "shell.execute_reply": "2022-05-02T08:09:01.120551Z",
     "shell.execute_reply.started": "2022-05-02T08:09:01.116575Z"
    }
   },
   "source": [
    "* From the above correlation and covariance matrix :\n",
    "*> As the Glucose level increases the Outcome tends to be positive for diabetes. (0.53)\n",
    "*> There is 0.54 correlation between Age and Pregnancies, Age is directly proportional to number of Pregnancies.\n",
    "*> As skin thickness increases the insulin level also increases(0.52)"
   ]
  },
  {
   "cell_type": "markdown",
   "metadata": {},
   "source": [
    "Plotting correlations using Matplotlib and Seaborn libraries"
   ]
  },
  {
   "cell_type": "code",
   "execution_count": 46,
   "metadata": {},
   "outputs": [
    {
     "data": {
      "text/plain": [
       "Text(0, 0.5, 'Glucose Level')"
      ]
     },
     "execution_count": 46,
     "metadata": {},
     "output_type": "execute_result"
    },
    {
     "data": {
      "image/png": "[encoded data removed]",
      "text/plain": [
       "<Figure size 576x432 with 2 Axes>"
      ]
     },
     "metadata": {
      "needs_background": "light"
     },
     "output_type": "display_data"
    }
   ],
   "source": [
    "# Glucose level, Outcome\n",
    "\n",
    "fig, axis = plt.subplots(1,2)\n",
    "\n",
    "# plot \n",
    "fig.set_figwidth(8)\n",
    "fig.set_figheight(6)\n",
    "axis[0].plot(df[\"Outcome\"],df[\"Glucose\"],\"+\")\n",
    "axis[0].set_title(\"Plot\")\n",
    "\n",
    "# bar graph\n",
    "axis[1].bar(df[\"Outcome\"],df[\"Glucose\"])\n",
    "axis[1].set_title(\"Bar Plot\")\n",
    "\n",
    "plt.xlabel(\"Outcome\")\n",
    "plt.ylabel(\"Glucose Level\",loc='center')"
   ]
  },
  {
   "cell_type": "code",
   "execution_count": 47,
   "metadata": {},
   "outputs": [
    {
     "data": {
      "text/plain": [
       "Text(0, 0.5, 'Pregnancies')"
      ]
     },
     "execution_count": 47,
     "metadata": {},
     "output_type": "execute_result"
    },
    {
     "data": {
      "image/png": "[encoded data removed]",
      "text/plain": [
       "<Figure size 432x288 with 1 Axes>"
      ]
     },
     "metadata": {
      "needs_background": "light"
     },
     "output_type": "display_data"
    }
   ],
   "source": [
    "# Age, Pegnancies\n",
    "plt.plot(df[\"Age\"],df[\"Pregnancies\"],\"+\")\n",
    "plt.xlabel(\"Age\")\n",
    "plt.ylabel(\"Pregnancies\")"
   ]
  },
  {
   "cell_type": "code",
   "execution_count": 48,
   "metadata": {},
   "outputs": [
    {
     "data": {
      "text/plain": [
       "Text(0.5, 1.0, 'Pregnancies')"
      ]
     },
     "execution_count": 48,
     "metadata": {},
     "output_type": "execute_result"
    },
    {
     "data": {
      "image/png": "[encoded data removed]",
      "text/plain": [
       "<Figure size 432x288 with 2 Axes>"
      ]
     },
     "metadata": {
      "needs_background": "light"
     },
     "output_type": "display_data"
    }
   ],
   "source": [
    "# Age, Pregnancies histogram\n",
    "fig,axis = plt.subplots(1,2)\n",
    "\n",
    "axis[0].hist(df[\"Age\"])\n",
    "axis[0].set_title('Age')\n",
    "\n",
    "axis[1].hist(df[\"Pregnancies\"])\n",
    "axis[1].set_title('Pregnancies')"
   ]
  },
  {
   "cell_type": "code",
   "execution_count": 49,
   "metadata": {},
   "outputs": [
    {
     "data": {
      "text/plain": [
       "Text(0, 0.5, 'Insulin')"
      ]
     },
     "execution_count": 49,
     "metadata": {},
     "output_type": "execute_result"
    },
    {
     "data": {
      "image/png": "[encoded data removed]",
      "text/plain": [
       "<Figure size 432x288 with 1 Axes>"
      ]
     },
     "metadata": {
      "needs_background": "light"
     },
     "output_type": "display_data"
    }
   ],
   "source": [
    "# Skin Thickness, Insulin\n",
    "plt.plot(df[\"SkinThickness\"],df[\"Insulin\"],\"r>\")\n",
    "plt.xlabel(\"SkinThickness\")\n",
    "plt.ylabel(\"Insulin\")"
   ]
  },
  {
   "cell_type": "code",
   "execution_count": 50,
   "metadata": {
    "execution": {
     "iopub.execute_input": "2022-05-02T08:09:27.083906Z",
     "iopub.status.busy": "2022-05-02T08:09:27.083671Z",
     "iopub.status.idle": "2022-05-02T08:09:29.940612Z",
     "shell.execute_reply": "2022-05-02T08:09:29.939767Z",
     "shell.execute_reply.started": "2022-05-02T08:09:27.083874Z"
    }
   },
   "outputs": [
    {
     "data": {
      "image/png": "[encoded data removed]",
      "text/plain": [
       "<Figure size 1080x2160 with 27 Axes>"
      ]
     },
     "metadata": {
      "needs_background": "light"
     },
     "output_type": "display_data"
    }
   ],
   "source": [
    "# Visualizations of all variables in DataFrame\n",
    "\n",
    "df.hist(figsize=(15,30),layout=(9,3))\n",
    "plt.show()"
   ]
  },
  {
   "cell_type": "markdown",
   "metadata": {},
   "source": [
    "* From the Target variable \"Outcome\" visualization we can see the more number of observations are non-Diabetic."
   ]
  },
  {
   "cell_type": "code",
   "execution_count": 51,
   "metadata": {},
   "outputs": [
    {
     "data": {
      "text/html": [
       "<div>\n",
       "<style scoped>\n",
       "    .dataframe tbody tr th:only-of-type {\n",
       "        vertical-align: middle;\n",
       "    }\n",
       "\n",
       "    .dataframe tbody tr th {\n",
       "        vertical-align: top;\n",
       "    }\n",
       "\n",
       "    .dataframe thead th {\n",
       "        text-align: right;\n",
       "    }\n",
       "</style>\n",
       "<table border=\"1\" class=\"dataframe\">\n",
       "  <thead>\n",
       "    <tr style=\"text-align: right;\">\n",
       "      <th></th>\n",
       "      <th>Pregnancies</th>\n",
       "      <th>Glucose</th>\n",
       "      <th>BloodPressure</th>\n",
       "      <th>SkinThickness</th>\n",
       "      <th>Insulin</th>\n",
       "      <th>BMI</th>\n",
       "      <th>DiabetesPedigreeFunction</th>\n",
       "      <th>Age</th>\n",
       "      <th>Outcome</th>\n",
       "    </tr>\n",
       "  </thead>\n",
       "  <tbody>\n",
       "    <tr>\n",
       "      <th>count</th>\n",
       "      <td>768.000000</td>\n",
       "      <td>768.000000</td>\n",
       "      <td>768.000000</td>\n",
       "      <td>768.000000</td>\n",
       "      <td>768.000000</td>\n",
       "      <td>768.000000</td>\n",
       "      <td>768.000000</td>\n",
       "      <td>768.000000</td>\n",
       "      <td>768.000000</td>\n",
       "    </tr>\n",
       "    <tr>\n",
       "      <th>mean</th>\n",
       "      <td>3.845052</td>\n",
       "      <td>120.894531</td>\n",
       "      <td>69.105469</td>\n",
       "      <td>20.536458</td>\n",
       "      <td>79.799479</td>\n",
       "      <td>31.992578</td>\n",
       "      <td>0.471876</td>\n",
       "      <td>33.240885</td>\n",
       "      <td>0.348958</td>\n",
       "    </tr>\n",
       "    <tr>\n",
       "      <th>std</th>\n",
       "      <td>3.369578</td>\n",
       "      <td>31.972618</td>\n",
       "      <td>19.355807</td>\n",
       "      <td>15.952218</td>\n",
       "      <td>115.244002</td>\n",
       "      <td>7.884160</td>\n",
       "      <td>0.331329</td>\n",
       "      <td>11.760232</td>\n",
       "      <td>0.476951</td>\n",
       "    </tr>\n",
       "    <tr>\n",
       "      <th>min</th>\n",
       "      <td>0.000000</td>\n",
       "      <td>0.000000</td>\n",
       "      <td>0.000000</td>\n",
       "      <td>0.000000</td>\n",
       "      <td>0.000000</td>\n",
       "      <td>0.000000</td>\n",
       "      <td>0.078000</td>\n",
       "      <td>21.000000</td>\n",
       "      <td>0.000000</td>\n",
       "    </tr>\n",
       "    <tr>\n",
       "      <th>25%</th>\n",
       "      <td>1.000000</td>\n",
       "      <td>99.000000</td>\n",
       "      <td>62.000000</td>\n",
       "      <td>0.000000</td>\n",
       "      <td>0.000000</td>\n",
       "      <td>27.300000</td>\n",
       "      <td>0.243750</td>\n",
       "      <td>24.000000</td>\n",
       "      <td>0.000000</td>\n",
       "    </tr>\n",
       "    <tr>\n",
       "      <th>50%</th>\n",
       "      <td>3.000000</td>\n",
       "      <td>117.000000</td>\n",
       "      <td>72.000000</td>\n",
       "      <td>23.000000</td>\n",
       "      <td>30.500000</td>\n",
       "      <td>32.000000</td>\n",
       "      <td>0.372500</td>\n",
       "      <td>29.000000</td>\n",
       "      <td>0.000000</td>\n",
       "    </tr>\n",
       "    <tr>\n",
       "      <th>75%</th>\n",
       "      <td>6.000000</td>\n",
       "      <td>140.250000</td>\n",
       "      <td>80.000000</td>\n",
       "      <td>32.000000</td>\n",
       "      <td>127.250000</td>\n",
       "      <td>36.600000</td>\n",
       "      <td>0.626250</td>\n",
       "      <td>41.000000</td>\n",
       "      <td>1.000000</td>\n",
       "    </tr>\n",
       "    <tr>\n",
       "      <th>max</th>\n",
       "      <td>17.000000</td>\n",
       "      <td>199.000000</td>\n",
       "      <td>122.000000</td>\n",
       "      <td>99.000000</td>\n",
       "      <td>846.000000</td>\n",
       "      <td>67.100000</td>\n",
       "      <td>2.420000</td>\n",
       "      <td>81.000000</td>\n",
       "      <td>1.000000</td>\n",
       "    </tr>\n",
       "  </tbody>\n",
       "</table>\n",
       "</div>"
      ],
      "text/plain": [
       "       Pregnancies     Glucose  BloodPressure  SkinThickness     Insulin  \\\n",
       "count   768.000000  768.000000     768.000000     768.000000  768.000000   \n",
       "mean      3.845052  120.894531      69.105469      20.536458   79.799479   \n",
       "std       3.369578   31.972618      19.355807      15.952218  115.244002   \n",
       "min       0.000000    0.000000       0.000000       0.000000    0.000000   \n",
       "25%       1.000000   99.000000      62.000000       0.000000    0.000000   \n",
       "50%       3.000000  117.000000      72.000000      23.000000   30.500000   \n",
       "75%       6.000000  140.250000      80.000000      32.000000  127.250000   \n",
       "max      17.000000  199.000000     122.000000      99.000000  846.000000   \n",
       "\n",
       "              BMI  DiabetesPedigreeFunction         Age     Outcome  \n",
       "count  768.000000                768.000000  768.000000  768.000000  \n",
       "mean    31.992578                  0.471876   33.240885    0.348958  \n",
       "std      7.884160                  0.331329   11.760232    0.476951  \n",
       "min      0.000000                  0.078000   21.000000    0.000000  \n",
       "25%     27.300000                  0.243750   24.000000    0.000000  \n",
       "50%     32.000000                  0.372500   29.000000    0.000000  \n",
       "75%     36.600000                  0.626250   41.000000    1.000000  \n",
       "max     67.100000                  2.420000   81.000000    1.000000  "
      ]
     },
     "execution_count": 51,
     "metadata": {},
     "output_type": "execute_result"
    }
   ],
   "source": [
    "# Desciptive statistics of data before performing data preprocessing\n",
    "df.describe()"
   ]
  },
  {
   "cell_type": "code",
   "execution_count": 52,
   "metadata": {},
   "outputs": [
    {
     "data": {
      "text/html": [
       "<div>\n",
       "<style scoped>\n",
       "    .dataframe tbody tr th:only-of-type {\n",
       "        vertical-align: middle;\n",
       "    }\n",
       "\n",
       "    .dataframe tbody tr th {\n",
       "        vertical-align: top;\n",
       "    }\n",
       "\n",
       "    .dataframe thead th {\n",
       "        text-align: right;\n",
       "    }\n",
       "</style>\n",
       "<table border=\"1\" class=\"dataframe\">\n",
       "  <thead>\n",
       "    <tr style=\"text-align: right;\">\n",
       "      <th></th>\n",
       "      <th>Pregnancies</th>\n",
       "      <th>Glucose</th>\n",
       "      <th>BloodPressure</th>\n",
       "      <th>SkinThickness</th>\n",
       "      <th>Insulin</th>\n",
       "      <th>BMI</th>\n",
       "      <th>DiabetesPedigreeFunction</th>\n",
       "      <th>Age</th>\n",
       "      <th>Outcome</th>\n",
       "    </tr>\n",
       "  </thead>\n",
       "  <tbody>\n",
       "    <tr>\n",
       "      <th>count</th>\n",
       "      <td>938.000000</td>\n",
       "      <td>938.000000</td>\n",
       "      <td>938.000000</td>\n",
       "      <td>938.000000</td>\n",
       "      <td>938.000000</td>\n",
       "      <td>938.000000</td>\n",
       "      <td>938.000000</td>\n",
       "      <td>938.000000</td>\n",
       "      <td>938.000000</td>\n",
       "    </tr>\n",
       "    <tr>\n",
       "      <th>mean</th>\n",
       "      <td>3.945480</td>\n",
       "      <td>126.240102</td>\n",
       "      <td>72.694538</td>\n",
       "      <td>21.258194</td>\n",
       "      <td>68.874981</td>\n",
       "      <td>32.804445</td>\n",
       "      <td>0.447409</td>\n",
       "      <td>33.600307</td>\n",
       "      <td>0.500000</td>\n",
       "    </tr>\n",
       "    <tr>\n",
       "      <th>std</th>\n",
       "      <td>3.222266</td>\n",
       "      <td>31.636979</td>\n",
       "      <td>10.901125</td>\n",
       "      <td>15.966362</td>\n",
       "      <td>81.673672</td>\n",
       "      <td>6.256410</td>\n",
       "      <td>0.235668</td>\n",
       "      <td>10.735446</td>\n",
       "      <td>0.500267</td>\n",
       "    </tr>\n",
       "    <tr>\n",
       "      <th>min</th>\n",
       "      <td>0.000000</td>\n",
       "      <td>44.000000</td>\n",
       "      <td>38.000000</td>\n",
       "      <td>0.000000</td>\n",
       "      <td>0.000000</td>\n",
       "      <td>18.200000</td>\n",
       "      <td>0.078000</td>\n",
       "      <td>21.000000</td>\n",
       "      <td>0.000000</td>\n",
       "    </tr>\n",
       "    <tr>\n",
       "      <th>25%</th>\n",
       "      <td>1.000000</td>\n",
       "      <td>102.000000</td>\n",
       "      <td>66.000000</td>\n",
       "      <td>0.000000</td>\n",
       "      <td>0.000000</td>\n",
       "      <td>28.505893</td>\n",
       "      <td>0.258000</td>\n",
       "      <td>25.000000</td>\n",
       "      <td>0.000000</td>\n",
       "    </tr>\n",
       "    <tr>\n",
       "      <th>50%</th>\n",
       "      <td>3.000000</td>\n",
       "      <td>121.000000</td>\n",
       "      <td>72.000000</td>\n",
       "      <td>24.000000</td>\n",
       "      <td>42.500000</td>\n",
       "      <td>32.521091</td>\n",
       "      <td>0.410000</td>\n",
       "      <td>31.000000</td>\n",
       "      <td>0.500000</td>\n",
       "    </tr>\n",
       "    <tr>\n",
       "      <th>75%</th>\n",
       "      <td>6.000000</td>\n",
       "      <td>147.859248</td>\n",
       "      <td>80.000000</td>\n",
       "      <td>33.630082</td>\n",
       "      <td>126.000000</td>\n",
       "      <td>36.800000</td>\n",
       "      <td>0.590413</td>\n",
       "      <td>40.891744</td>\n",
       "      <td>1.000000</td>\n",
       "    </tr>\n",
       "    <tr>\n",
       "      <th>max</th>\n",
       "      <td>13.000000</td>\n",
       "      <td>199.000000</td>\n",
       "      <td>106.000000</td>\n",
       "      <td>63.000000</td>\n",
       "      <td>318.000000</td>\n",
       "      <td>50.000000</td>\n",
       "      <td>1.189000</td>\n",
       "      <td>66.000000</td>\n",
       "      <td>1.000000</td>\n",
       "    </tr>\n",
       "  </tbody>\n",
       "</table>\n",
       "</div>"
      ],
      "text/plain": [
       "       Pregnancies     Glucose  BloodPressure  SkinThickness     Insulin  \\\n",
       "count   938.000000  938.000000     938.000000     938.000000  938.000000   \n",
       "mean      3.945480  126.240102      72.694538      21.258194   68.874981   \n",
       "std       3.222266   31.636979      10.901125      15.966362   81.673672   \n",
       "min       0.000000   44.000000      38.000000       0.000000    0.000000   \n",
       "25%       1.000000  102.000000      66.000000       0.000000    0.000000   \n",
       "50%       3.000000  121.000000      72.000000      24.000000   42.500000   \n",
       "75%       6.000000  147.859248      80.000000      33.630082  126.000000   \n",
       "max      13.000000  199.000000     106.000000      63.000000  318.000000   \n",
       "\n",
       "              BMI  DiabetesPedigreeFunction         Age     Outcome  \n",
       "count  938.000000                938.000000  938.000000  938.000000  \n",
       "mean    32.804445                  0.447409   33.600307    0.500000  \n",
       "std      6.256410                  0.235668   10.735446    0.500267  \n",
       "min     18.200000                  0.078000   21.000000    0.000000  \n",
       "25%     28.505893                  0.258000   25.000000    0.000000  \n",
       "50%     32.521091                  0.410000   31.000000    0.500000  \n",
       "75%     36.800000                  0.590413   40.891744    1.000000  \n",
       "max     50.000000                  1.189000   66.000000    1.000000  "
      ]
     },
     "execution_count": 52,
     "metadata": {},
     "output_type": "execute_result"
    }
   ],
   "source": [
    "# Descriptive statistics of data after Data Preprocessing\n",
    "df_sampled.describe()"
   ]
  },
  {
   "cell_type": "markdown",
   "metadata": {},
   "source": [
    "* After data Preprocessing\n",
    "* As the outliers are treated in the data set, \n",
    "    * > the skewness in data is reduced\n",
    "    *> the mean value of column is updated accordingly to reduce skewness and near to median value"
   ]
  },
  {
   "cell_type": "markdown",
   "metadata": {},
   "source": [
    "**Feature Engineering**"
   ]
  },
  {
   "cell_type": "code",
   "execution_count": 53,
   "metadata": {},
   "outputs": [
    {
     "data": {
      "text/plain": [
       "Pregnancies                 float64\n",
       "Glucose                     float64\n",
       "BloodPressure               float64\n",
       "SkinThickness               float64\n",
       "Insulin                     float64\n",
       "BMI                         float64\n",
       "DiabetesPedigreeFunction    float64\n",
       "Age                         float64\n",
       "Outcome                     float64\n",
       "dtype: object"
      ]
     },
     "execution_count": 53,
     "metadata": {},
     "output_type": "execute_result"
    }
   ],
   "source": [
    "df_sampled.dtypes"
   ]
  },
  {
   "cell_type": "markdown",
   "metadata": {},
   "source": [
    "* Label Encoding, One hot Encoding\n",
    "* As all the column data types are continous and not categorical, we don't have to apply Label Encoding or One hot encoding on variables"
   ]
  },
  {
   "cell_type": "code",
   "execution_count": 54,
   "metadata": {},
   "outputs": [
    {
     "data": {
      "text/plain": [
       "[Text(0.5, 1.0, 'Plot for \"df_sampled\" DataFrame')]"
      ]
     },
     "execution_count": 54,
     "metadata": {},
     "output_type": "execute_result"
    },
    {
     "data": {
      "image/png": "[encoded data removed]",
      "text/plain": [
       "<Figure size 1080x288 with 2 Axes>"
      ]
     },
     "metadata": {
      "needs_background": "light"
     },
     "output_type": "display_data"
    }
   ],
   "source": [
    "# Plotting two graphs with \"df\" before Data Preprocessing and \"df_sampled\" after data Preprocessing\n",
    "\n",
    "fig, axis = plt.subplots(ncols=2)\n",
    "\n",
    "fig.set_figwidth(15)\n",
    "fig.set_figheight(4)\n",
    "\n",
    "sb.histplot(df,ax=axis[0]).set(title=\"Plot for \\\"df\\\" DataFrame \")\n",
    "sb.histplot(df_sampled,ax=axis[1]).set(title=\"Plot for \\\"df_sampled\\\" DataFrame\")"
   ]
  },
  {
   "cell_type": "markdown",
   "metadata": {},
   "source": [
    "* From above visualization we can see that the data before Preprocessing is spread wide with the outliers present.\n",
    "* After Data Preprocessing, as outliers are handled the data is modified to be around median with adjusted mean."
   ]
  },
  {
   "cell_type": "markdown",
   "metadata": {},
   "source": [
    "**Scaling**\n",
    "* Min-Max scaler"
   ]
  },
  {
   "cell_type": "code",
   "execution_count": 55,
   "metadata": {},
   "outputs": [],
   "source": [
    "# Seperating into Input and Output columns \n",
    "df_sep = df_sampled.values\n",
    "X, y = df_sep[:,:-1], df_sep[:,-1]\n",
    "\n",
    "# As data is not Normally Distributed, going for Min-Max scaling\n",
    "from sklearn.preprocessing import MinMaxScaler\n",
    "scaler = MinMaxScaler()\n",
    "X_scaled = scaler.fit_transform(X)"
   ]
  },
  {
   "cell_type": "markdown",
   "metadata": {},
   "source": [
    "**Model Building:**\n",
    ">Importing all required libraries"
   ]
  },
  {
   "cell_type": "code",
   "execution_count": 56,
   "metadata": {},
   "outputs": [],
   "source": [
    "from sklearn.model_selection import train_test_split\n",
    "from sklearn.linear_model import LogisticRegression\n",
    "from sklearn.ensemble import RandomForestClassifier\n",
    "from sklearn.tree import DecisionTreeClassifier\n",
    "from xgboost import XGBClassifier\n",
    "from sklearn.svm import SVC\n",
    "from sklearn.neighbors import KNeighborsClassifier"
   ]
  },
  {
   "cell_type": "code",
   "execution_count": 57,
   "metadata": {},
   "outputs": [],
   "source": [
    "# Splitting data into train and test set\n",
    "X_train, X_test, y_train, y_test = train_test_split(X_scaled,y,test_size=0.3,random_state=30)"
   ]
  },
  {
   "cell_type": "code",
   "execution_count": 58,
   "metadata": {},
   "outputs": [],
   "source": [
    "# Logistic Regression\n",
    "LR = LogisticRegression(random_state=12345)\n",
    "LR_result = LR.fit(X_train,y_train)"
   ]
  },
  {
   "cell_type": "code",
   "execution_count": 59,
   "metadata": {},
   "outputs": [],
   "source": [
    "from sklearn import metrics\n",
    "from sklearn.metrics import confusion_matrix, accuracy_score"
   ]
  },
  {
   "cell_type": "code",
   "execution_count": 60,
   "metadata": {},
   "outputs": [
    {
     "name": "stdout",
     "output_type": "stream",
     "text": [
      "Test set prediction accuracy score:  0.776595744680851\n"
     ]
    }
   ],
   "source": [
    "# prediction for test data\n",
    "y_pred = LR.predict(X_test)\n",
    "print(\"Test set prediction accuracy score: \",accuracy_score(y_test,y_pred))"
   ]
  },
  {
   "cell_type": "code",
   "execution_count": 61,
   "metadata": {},
   "outputs": [
    {
     "name": "stdout",
     "output_type": "stream",
     "text": [
      "Train set prediction accuracy score:  0.7637195121951219\n"
     ]
    }
   ],
   "source": [
    "# prediction for train data \n",
    "y_train_pred = LR.predict(X_train)\n",
    "print(\"Train set prediction accuracy score: \",accuracy_score(y_train,y_train_pred))"
   ]
  },
  {
   "cell_type": "code",
   "execution_count": 62,
   "metadata": {},
   "outputs": [],
   "source": [
    "# Models\n",
    "\n",
    "models = []\n",
    "models.append((\"LR\",LogisticRegression(random_state=30)))\n",
    "models.append((\"DT\",DecisionTreeClassifier(random_state=30)))\n",
    "models.append((\"RF\",RandomForestClassifier(random_state=30)))\n",
    "models.append((\"XGB\",XGBClassifier(random_state=30,eval_metric='logloss')))\n",
    "models.append((\"SVM\",SVC(random_state=30)))\n",
    "models.append((\"KNN\",KNeighborsClassifier()))\n"
   ]
  },
  {
   "cell_type": "code",
   "execution_count": 63,
   "metadata": {},
   "outputs": [],
   "source": [
    "import warnings\n",
    "warnings.filterwarnings(\"ignore\")"
   ]
  },
  {
   "cell_type": "code",
   "execution_count": 64,
   "metadata": {},
   "outputs": [
    {
     "name": "stdout",
     "output_type": "stream",
     "text": [
      "['LR: 0.7473118279569892 ', 'DT: 0.7730725234500114 ', 'RF: 0.8508464882177991 ', 'XGB: 0.8327156257149394 ', 'SVM: 0.8059482955845345 ', 'KNN: 0.802745367192862 ']\n",
      "\n",
      "ROC-AUC scores: \n",
      " ['LR: 0.8612304736868712 ', 'DT: 0.7739244729791214 ', 'RF: 0.9147414185329356 ', 'XGB: 0.8920175926394015 ', 'KNN: 0.8399474242960416 ']\n"
     ]
    }
   ],
   "source": [
    "# Using K-fold cross validation accross various classification models\n",
    "\n",
    "from sklearn.model_selection import cross_val_score, KFold\n",
    "names=[]\n",
    "results=[]\n",
    "prnts=[]\n",
    "prnts2=[]\n",
    "for name,model in models:\n",
    "    kfold = KFold(n_splits=10)\n",
    "    cross_Val = cross_val_score(model,X_scaled,y,cv=10, scoring=\"accuracy\")\n",
    "    prnt = \"{0}: {1} \".format(name,cross_Val.mean())\n",
    "    prnts.append(prnt)\n",
    "    \n",
    "    results.append(cross_Val.mean())\n",
    "    names.append(name)\n",
    "    \n",
    "    # ROC-AUC score\n",
    "    if name == \"SVM\":\n",
    "        continue\n",
    "    else:\n",
    "        model.fit(X_train,y_train)\n",
    "        y_pred_AUC = model.predict_proba(X_test)\n",
    "        RocAucScore = metrics.roc_auc_score(y_test,y_pred_AUC[:,1])\n",
    "        prnt2 = \"{0}: {1} \".format(name,RocAucScore)\n",
    "        prnts2.append(prnt2)\n",
    "print(prnts)\n",
    "print(\"\\nROC-AUC scores: \\n\",prnts2)"
   ]
  },
  {
   "cell_type": "markdown",
   "metadata": {},
   "source": [
    "Plotting accuracy of models"
   ]
  },
  {
   "cell_type": "code",
   "execution_count": 65,
   "metadata": {},
   "outputs": [
    {
     "data": {
      "text/plain": [
       "<BarContainer object of 6 artists>"
      ]
     },
     "execution_count": 65,
     "metadata": {},
     "output_type": "execute_result"
    },
    {
     "data": {
      "image/png": "[encoded data removed]",
      "text/plain": [
       "<Figure size 432x288 with 1 Axes>"
      ]
     },
     "metadata": {
      "needs_background": "light"
     },
     "output_type": "display_data"
    }
   ],
   "source": [
    "plt.bar(names,results)"
   ]
  },
  {
   "cell_type": "markdown",
   "metadata": {},
   "source": [
    "* **From above plot we can see that Random Forest Classifier is the best performer with 85.0% accuracy**"
   ]
  },
  {
   "cell_type": "markdown",
   "metadata": {},
   "source": [
    "* We can go-ahead and improve the overall Accuracy by Hyper-Parameter tuning.\n",
    "* Using more Feature Engineering Techniques like Feature creation using existing features.\n",
    "* Using Feature Selection to select important features which contribute the most for an Algorithm to perform well.\n",
    "* Multiple algorithms can also be used Apart from what is implemented in this Notebook like Ensemble Methods and others."
   ]
  }
 ],
 "metadata": {
  "kernelspec": {
   "display_name": "Python 3 (ipykernel)",
   "language": "python",
   "name": "python3"
  },
  "language_info": {
   "codemirror_mode": {
    "name": "ipython",
    "version": 3
   },
   "file_extension": ".py",
   "mimetype": "text/x-python",
   "name": "python",
   "nbconvert_exporter": "python",
   "pygments_lexer": "ipython3",
   "version": "3.7.0"
  }
 },
 "nbformat": 4,
 "nbformat_minor": 4
}
